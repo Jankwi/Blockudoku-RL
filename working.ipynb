{
 "cells": [
  {
   "cell_type": "code",
   "execution_count": 3,
   "id": "166b663d-8161-45fc-b40e-bea8d239dced",
   "metadata": {},
   "outputs": [],
   "source": [
    "from blockulib.playing import DeepSearch\n",
    "from blockulib.data import DataTransformer\n",
    "import blockulib.models as blom\n",
    "import blockulib\n",
    "import torch"
   ]
  },
  {
   "cell_type": "code",
   "execution_count": 4,
   "id": "d2018718-b68a-4ce3-9f7b-389c42539caf",
   "metadata": {},
   "outputs": [
    {
     "data": {
      "text/plain": [
       "'class DeepSearch(ModelBasedLoop):\\n    def __init__(self):\\n        super().__init__()\\n        self.probe = Probe()\\n        self.dt = DataTransformer()\\n    \\n    def rethink_logits(self, data, old_logits, rethink_batch, probes_per_pos = 5):\\n        if (data.shape[0] == 0):\\n            return torch.tensor([])\\n        gls, lls = [], []\\n        for i in range(0, data.shape[0], rethink_batch):\\n            batch = data[i:i+rethink_batch]\\n            batch = batch.repeat_interleave(probes_per_pos, dim = 0)\\n            gl, ll = self.probe(pos_tensor = batch, depth = 3, temperature = 0.7, top_k = 3)\\n            gls.append(gl)\\n            lls.append(ll)\\n        GLs = torch.cat(gls)\\n        LLs = torch.cat(lls)\\n        GLs += self.dt.logits_to_nums(LLs)\\n        LLs = self.dt.nums_to_logits(GLs)\\n        LLs = LLs.view(data.shape[0], probes_per_pos).mean(dim = 1)\\n        return LLs '"
      ]
     },
     "execution_count": 4,
     "metadata": {},
     "output_type": "execute_result"
    }
   ],
   "source": [
    "\"\"\"class DeepSearch(ModelBasedLoop):\n",
    "    def __init__(self):\n",
    "        super().__init__()\n",
    "        self.probe = Probe()\n",
    "        self.dt = DataTransformer()\n",
    "    \n",
    "    def rethink_logits(self, data, old_logits, rethink_batch, probes_per_pos = 5):\n",
    "        if (data.shape[0] == 0):\n",
    "            return torch.tensor([])\n",
    "        gls, lls = [], []\n",
    "        for i in range(0, data.shape[0], rethink_batch):\n",
    "            batch = data[i:i+rethink_batch]\n",
    "            batch = batch.repeat_interleave(probes_per_pos, dim = 0)\n",
    "            gl, ll = self.probe(pos_tensor = batch, depth = 3, temperature = 0.7, top_k = 3)\n",
    "            gls.append(gl)\n",
    "            lls.append(ll)\n",
    "        GLs = torch.cat(gls)\n",
    "        LLs = torch.cat(lls)\n",
    "        GLs += self.dt.logits_to_nums(LLs)\n",
    "        LLs = self.dt.nums_to_logits(GLs)\n",
    "        LLs = LLs.view(data.shape[0], probes_per_pos).mean(dim = 1)\n",
    "        return LLs \"\"\""
   ]
  },
  {
   "cell_type": "code",
   "execution_count": 5,
   "id": "75041c19-5a1c-41c5-a0a1-c6196cade60f",
   "metadata": {
    "tags": []
   },
   "outputs": [],
   "source": [
    "DS = DeepSearch()"
   ]
  },
  {
   "cell_type": "code",
   "execution_count": 6,
   "id": "1acc918c-0b27-4988-9da0-3d1bb181ca55",
   "metadata": {
    "tags": []
   },
   "outputs": [
    {
     "name": "stdout",
     "output_type": "stream",
     "text": [
      "Starting epoch 1 with 10 games\n",
      "Elapsed time: 1.553818 seconds - 1.553818 per 10 games\n",
      "Starting epoch 2 with 20 games\n",
      "Elapsed time: 2.223736 seconds - 1.111868 per 10 games\n",
      "Starting epoch 3 with 30 games\n",
      "Elapsed time: 2.993550 seconds - 0.997850 per 10 games\n",
      "Starting epoch 4 with 40 games\n",
      "Elapsed time: 4.357768 seconds - 1.089442 per 10 games\n",
      "Starting epoch 5 with 50 games\n",
      "Elapsed time: 6.473171 seconds - 1.294634 per 10 games\n",
      "Starting epoch 6 with 60 games\n",
      "Elapsed time: 5.841307 seconds - 0.973551 per 10 games\n",
      "Starting epoch 7 with 70 games\n",
      "Elapsed time: 7.297310 seconds - 1.042473 per 10 games\n",
      "Starting epoch 8 with 80 games\n",
      "Elapsed time: 7.320915 seconds - 0.915114 per 10 games\n",
      "Starting epoch 9 with 90 games\n",
      "Elapsed time: 8.255341 seconds - 0.917260 per 10 games\n",
      "Starting epoch 10 with 100 games\n",
      "Elapsed time: 9.810492 seconds - 0.981049 per 10 games\n",
      "Starting epoch 11 with 110 games\n",
      "Elapsed time: 11.049978 seconds - 1.004543 per 10 games\n",
      "Starting epoch 12 with 120 games\n",
      "Elapsed time: 12.001188 seconds - 1.000099 per 10 games\n",
      "Starting epoch 13 with 130 games\n",
      "Elapsed time: 13.515830 seconds - 1.039679 per 10 games\n",
      "Starting epoch 14 with 140 games\n"
     ]
    },
    {
     "ename": "KeyboardInterrupt",
     "evalue": "",
     "output_type": "error",
     "traceback": [
      "\u001b[1;31m---------------------------------------------------------------------------\u001b[0m",
      "\u001b[1;31mKeyboardInterrupt\u001b[0m                         Traceback (most recent call last)",
      "Cell \u001b[1;32mIn[6], line 9\u001b[0m\n\u001b[0;32m      6\u001b[0m \u001b[38;5;28mprint\u001b[39m(\u001b[38;5;124mf\u001b[39m\u001b[38;5;124m\"\u001b[39m\u001b[38;5;124mStarting epoch \u001b[39m\u001b[38;5;132;01m{\u001b[39;00mi\u001b[38;5;132;01m}\u001b[39;00m\u001b[38;5;124m with \u001b[39m\u001b[38;5;132;01m{\u001b[39;00mnum_games\u001b[38;5;132;01m}\u001b[39;00m\u001b[38;5;124m games\u001b[39m\u001b[38;5;124m\"\u001b[39m)\n\u001b[0;32m      7\u001b[0m start_time \u001b[38;5;241m=\u001b[39m time\u001b[38;5;241m.\u001b[39mtime()\n\u001b[1;32m----> 9\u001b[0m data \u001b[38;5;241m=\u001b[39m DS(num_games \u001b[38;5;241m=\u001b[39m num_games, rethink_batch \u001b[38;5;241m=\u001b[39m \u001b[38;5;241m400\u001b[39m, temperature \u001b[38;5;241m=\u001b[39m \u001b[38;5;241m0.7\u001b[39m, top_k \u001b[38;5;241m=\u001b[39m \u001b[38;5;241m3\u001b[39m)\n\u001b[0;32m     11\u001b[0m end_time \u001b[38;5;241m=\u001b[39m time\u001b[38;5;241m.\u001b[39mtime()\n\u001b[0;32m     12\u001b[0m elapsed_time \u001b[38;5;241m=\u001b[39m end_time \u001b[38;5;241m-\u001b[39m start_time\n",
      "File \u001b[1;32m~\\OneDrive\\Dokumenty\\blockudoku\\Blockudoku-RL\\blockulib\\playing.py:71\u001b[0m, in \u001b[0;36mModelBasedLoop.__call__\u001b[1;34m(self, num_games, rethink_batch, batch_size, temperature, top_k)\u001b[0m\n\u001b[0;32m     69\u001b[0m logits \u001b[38;5;241m=\u001b[39m \u001b[38;5;28mself\u001b[39m\u001b[38;5;241m.\u001b[39mget_model_pred(pos, batch_size \u001b[38;5;241m=\u001b[39m batch_size)\n\u001b[0;32m     70\u001b[0m pos, ind, logits \u001b[38;5;241m=\u001b[39m blockulib\u001b[38;5;241m.\u001b[39mcut_to_topk(pos, ind, logits, num_games \u001b[38;5;241m=\u001b[39m active_games, top_k \u001b[38;5;241m=\u001b[39m top_k)\n\u001b[1;32m---> 71\u001b[0m logits \u001b[38;5;241m=\u001b[39m \u001b[38;5;28mself\u001b[39m\u001b[38;5;241m.\u001b[39mrethink_logits(pos, logits, rethink_batch)\n\u001b[0;32m     72\u001b[0m decisions \u001b[38;5;241m=\u001b[39m blockulib\u001b[38;5;241m.\u001b[39mlogits_to_choices(logits, ind, active_games, temperature \u001b[38;5;241m=\u001b[39m temperature, top_k \u001b[38;5;241m=\u001b[39m top_k)\n\u001b[0;32m     74\u001b[0m \u001b[38;5;28;01mfor\u001b[39;00m i \u001b[38;5;129;01min\u001b[39;00m \u001b[38;5;28mrange\u001b[39m(active_games):\n",
      "File \u001b[1;32m~\\OneDrive\\Dokumenty\\blockudoku\\Blockudoku-RL\\blockulib\\playing.py:150\u001b[0m, in \u001b[0;36mDeepSearch.rethink_logits\u001b[1;34m(self, data, old_logits, rethink_batch, probes_per_pos)\u001b[0m\n\u001b[0;32m    148\u001b[0m batch \u001b[38;5;241m=\u001b[39m data[i:i\u001b[38;5;241m+\u001b[39mrethink_batch]\n\u001b[0;32m    149\u001b[0m batch \u001b[38;5;241m=\u001b[39m batch\u001b[38;5;241m.\u001b[39mrepeat_interleave(probes_per_pos, dim \u001b[38;5;241m=\u001b[39m \u001b[38;5;241m0\u001b[39m)\n\u001b[1;32m--> 150\u001b[0m gl, ll \u001b[38;5;241m=\u001b[39m \u001b[38;5;28mself\u001b[39m\u001b[38;5;241m.\u001b[39mprobe(pos_tensor \u001b[38;5;241m=\u001b[39m batch, depth \u001b[38;5;241m=\u001b[39m \u001b[38;5;241m3\u001b[39m, temperature \u001b[38;5;241m=\u001b[39m \u001b[38;5;241m0.7\u001b[39m, top_k \u001b[38;5;241m=\u001b[39m \u001b[38;5;241m3\u001b[39m)\n\u001b[0;32m    151\u001b[0m gls\u001b[38;5;241m.\u001b[39mappend(gl)\n\u001b[0;32m    152\u001b[0m lls\u001b[38;5;241m.\u001b[39mappend(ll)\n",
      "File \u001b[1;32m~\\OneDrive\\Dokumenty\\blockudoku\\Blockudoku-RL\\blockulib\\playing.py:122\u001b[0m, in \u001b[0;36mProbe.__call__\u001b[1;34m(self, pos_tensor, depth, batch_size, temperature, top_k)\u001b[0m\n\u001b[0;32m    120\u001b[0m pos, ind \u001b[38;5;241m=\u001b[39m blockulib\u001b[38;5;241m.\u001b[39mpossible_moves(boards, \u001b[38;5;28mself\u001b[39m\u001b[38;5;241m.\u001b[39mgenerator)\n\u001b[0;32m    121\u001b[0m logits \u001b[38;5;241m=\u001b[39m \u001b[38;5;28mself\u001b[39m\u001b[38;5;241m.\u001b[39mget_model_pred(pos, batch_size \u001b[38;5;241m=\u001b[39m batch_size)\n\u001b[1;32m--> 122\u001b[0m decisions \u001b[38;5;241m=\u001b[39m blockulib\u001b[38;5;241m.\u001b[39mlogits_to_choices(logits, ind, active_games, temperature \u001b[38;5;241m=\u001b[39m temperature, top_k \u001b[38;5;241m=\u001b[39m top_k)\n\u001b[0;32m    124\u001b[0m \u001b[38;5;28;01mfor\u001b[39;00m i \u001b[38;5;129;01min\u001b[39;00m \u001b[38;5;28mrange\u001b[39m(active_games):\n\u001b[0;32m    125\u001b[0m     \u001b[38;5;28;01mif\u001b[39;00m (decisions[i] \u001b[38;5;129;01mis\u001b[39;00m \u001b[38;5;28;01mNone\u001b[39;00m):\n",
      "File \u001b[1;32m~\\OneDrive\\Dokumenty\\blockudoku\\Blockudoku-RL\\blockulib\\__init__.py:128\u001b[0m, in \u001b[0;36mlogits_to_choices\u001b[1;34m(logits, index, num_games, temperature, top_k)\u001b[0m\n\u001b[0;32m    126\u001b[0m \u001b[38;5;28;01mfor\u001b[39;00m left, right \u001b[38;5;129;01min\u001b[39;00m \u001b[38;5;28mzip\u001b[39m(range_left, range_right):\n\u001b[0;32m    127\u001b[0m     \u001b[38;5;28;01mif\u001b[39;00m left \u001b[38;5;129;01mis\u001b[39;00m \u001b[38;5;129;01mnot\u001b[39;00m \u001b[38;5;28;01mNone\u001b[39;00m \u001b[38;5;129;01mand\u001b[39;00m right \u001b[38;5;129;01mis\u001b[39;00m \u001b[38;5;129;01mnot\u001b[39;00m \u001b[38;5;28;01mNone\u001b[39;00m:\n\u001b[1;32m--> 128\u001b[0m         choices\u001b[38;5;241m.\u001b[39mappend(left\u001b[38;5;241m+\u001b[39msample_from_logits(logits[left:right], temperature \u001b[38;5;241m=\u001b[39m temperature, top_k \u001b[38;5;241m=\u001b[39m top_k))\n\u001b[0;32m    129\u001b[0m     \u001b[38;5;28;01melse\u001b[39;00m:\n\u001b[0;32m    130\u001b[0m         choices\u001b[38;5;241m.\u001b[39mappend(\u001b[38;5;28;01mNone\u001b[39;00m)\n",
      "File \u001b[1;32m~\\OneDrive\\Dokumenty\\blockudoku\\Blockudoku-RL\\blockulib\\__init__.py:88\u001b[0m, in \u001b[0;36msample_from_logits\u001b[1;34m(logits, temperature, top_k)\u001b[0m\n\u001b[0;32m     85\u001b[0m     threshold \u001b[38;5;241m=\u001b[39m top_vals[\u001b[38;5;241m-\u001b[39m\u001b[38;5;241m1\u001b[39m]\n\u001b[0;32m     86\u001b[0m     logits[logits \u001b[38;5;241m<\u001b[39m threshold] \u001b[38;5;241m=\u001b[39m \u001b[38;5;28mfloat\u001b[39m(\u001b[38;5;124m'\u001b[39m\u001b[38;5;124m-inf\u001b[39m\u001b[38;5;124m'\u001b[39m)\n\u001b[1;32m---> 88\u001b[0m probs \u001b[38;5;241m=\u001b[39m F\u001b[38;5;241m.\u001b[39msoftmax(logits, dim\u001b[38;5;241m=\u001b[39m\u001b[38;5;241m-\u001b[39m\u001b[38;5;241m1\u001b[39m)\n\u001b[0;32m     89\u001b[0m \u001b[38;5;66;03m#print(\"Current probabilities \", probs.T)\u001b[39;00m\n\u001b[0;32m     90\u001b[0m sampled_index \u001b[38;5;241m=\u001b[39m torch\u001b[38;5;241m.\u001b[39mmultinomial(probs, num_samples\u001b[38;5;241m=\u001b[39m\u001b[38;5;241m1\u001b[39m)\n",
      "File \u001b[1;32m~\\anaconda3\\Lib\\site-packages\\torch\\nn\\functional.py:1858\u001b[0m, in \u001b[0;36msoftmax\u001b[1;34m(input, dim, _stacklevel, dtype)\u001b[0m\n\u001b[0;32m   1856\u001b[0m     dim \u001b[38;5;241m=\u001b[39m _get_softmax_dim(\u001b[38;5;124m\"\u001b[39m\u001b[38;5;124msoftmax\u001b[39m\u001b[38;5;124m\"\u001b[39m, \u001b[38;5;28minput\u001b[39m\u001b[38;5;241m.\u001b[39mdim(), _stacklevel)\n\u001b[0;32m   1857\u001b[0m \u001b[38;5;28;01mif\u001b[39;00m dtype \u001b[38;5;129;01mis\u001b[39;00m \u001b[38;5;28;01mNone\u001b[39;00m:\n\u001b[1;32m-> 1858\u001b[0m     ret \u001b[38;5;241m=\u001b[39m \u001b[38;5;28minput\u001b[39m\u001b[38;5;241m.\u001b[39msoftmax(dim)\n\u001b[0;32m   1859\u001b[0m \u001b[38;5;28;01melse\u001b[39;00m:\n\u001b[0;32m   1860\u001b[0m     ret \u001b[38;5;241m=\u001b[39m \u001b[38;5;28minput\u001b[39m\u001b[38;5;241m.\u001b[39msoftmax(dim, dtype\u001b[38;5;241m=\u001b[39mdtype)\n",
      "\u001b[1;31mKeyboardInterrupt\u001b[0m: "
     ]
    }
   ],
   "source": [
    "import time\n",
    "\n",
    "\n",
    "for i in range(1, 31):\n",
    "    num_games = 10*i\n",
    "    print(f\"Starting epoch {i} with {num_games} games\")\n",
    "    start_time = time.time()\n",
    "    \n",
    "    data = DS(num_games = num_games, rethink_batch = 400, temperature = 0.7, top_k = 3)\n",
    "    \n",
    "    end_time = time.time()\n",
    "    elapsed_time = end_time - start_time\n",
    "    print(f\"Elapsed time: {elapsed_time:.6f} seconds - {(elapsed_time/i):.6f} per 10 games\")"
   ]
  }
 ],
 "metadata": {
  "kernelspec": {
   "display_name": "Python 3 (ipykernel)",
   "language": "python",
   "name": "python3"
  },
  "language_info": {
   "codemirror_mode": {
    "name": "ipython",
    "version": 3
   },
   "file_extension": ".py",
   "mimetype": "text/x-python",
   "name": "python",
   "nbconvert_exporter": "python",
   "pygments_lexer": "ipython3",
   "version": "3.11.7"
  }
 },
 "nbformat": 4,
 "nbformat_minor": 5
}
