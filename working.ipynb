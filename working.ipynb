{
 "cells": [
  {
   "cell_type": "markdown",
   "id": "cda5cdb8-fcea-41e3-b926-6d5ad874bccc",
   "metadata": {},
   "source": [
    "# New PlayingLoop structure\n",
    "    work in progress - new Playing Loop structure will be more object oriented and hopefully faster thanks to PositionList"
   ]
  },
  {
   "cell_type": "code",
   "execution_count": 11,
   "id": "14d1d68a-0928-4a97-9ebd-31ca917ca562",
   "metadata": {
    "tags": []
   },
   "outputs": [
    {
     "name": "stdout",
     "output_type": "stream",
     "text": [
      "{'pick_moves_config': {'rethink_config': {'probes_per_pos': 10}}}\n"
     ]
    }
   ],
   "source": [
    "playing_config = {\n",
    "    'pick_moves_config' : {\n",
    "        'rethink_config' : {\n",
    "            'probes_per_pos' : 10\n",
    "        }\n",
    "    }\n",
    "}\n",
    "print(playing_config)"
   ]
  },
  {
   "cell_type": "code",
   "execution_count": 13,
   "id": "2d16779f-af9a-4583-8e9f-ee09201904c0",
   "metadata": {
    "tags": []
   },
   "outputs": [
    {
     "name": "stderr",
     "output_type": "stream",
     "text": [
      "Playing games: 100%|██████████| 5/5 [01:37<00:00, 19.53s/it]"
     ]
    },
    {
     "name": "stdout",
     "output_type": "stream",
     "text": [
      "Mean MPG : 31.57\n"
     ]
    },
    {
     "name": "stderr",
     "output_type": "stream",
     "text": [
      "\n"
     ]
    }
   ],
   "source": [
    "from blockulib.playing import play_games\n",
    "play_games(num_games = 100, games_at_once = 20, playing_loop = DeepSearch, playing_config = playing_config, save = False)"
   ]
  },
  {
   "cell_type": "markdown",
   "id": "f21cea17-b5d9-4ab9-88bb-2bc9befb8a38",
   "metadata": {},
   "source": [
    "# Data experiments"
   ]
  },
  {
   "cell_type": "code",
   "execution_count": 7,
   "id": "3cb2c175-91de-4489-ae73-560e26caa56c",
   "metadata": {
    "tags": []
   },
   "outputs": [
    {
     "name": "stdout",
     "output_type": "stream",
     "text": [
      "2 boards requested, out of 3\n",
      "Threshold set at 2, 0 places left\n",
      "2 boards requested, out of 4\n",
      "Threshold set at 3, 1 places left\n",
      "All tests passed\n",
      "All tests passed\n"
     ]
    }
   ],
   "source": [
    "from blockulib.data_tests import DataOrganizerTests, YTransformTests\n",
    "\n",
    "tests = DataOrganizerTests()\n",
    "tests()\n",
    "\n",
    "tests = YTransformTests()\n",
    "tests()"
   ]
  },
  {
   "cell_type": "code",
   "execution_count": null,
   "id": "7fecd400-93a0-47b9-8dde-11542f152911",
   "metadata": {},
   "outputs": [],
   "source": [
    "# class YTransformer():\n",
    "#     def __init__(self, discounter_config = {}, logiter_config = {}):\n",
    "#         self.discounter = YDiscounter(**discounter_config)\n",
    "#         self.logiter = YLogiter(**logiter_config)\n",
    "        \n",
    "#     def lengths_to_values(self, lengths : torch.Tensor):\n",
    "#         return self.discounter.lengths_to_values(lengths)\n",
    "    \n",
    "#     def values_to_logits(self, values : torch.Tensor):\n",
    "#         return self.logiter.values_to_logits(values)\n",
    "    \n",
    "#     def lengths_to_logits(self, lengths : torch.Tensor):\n",
    "#         values = self.lengths_to_values(lengths)\n",
    "#         return self.values_to_logits(values)"
   ]
  },
  {
   "cell_type": "code",
   "execution_count": 6,
   "id": "434d3ae1-e251-40c5-91e1-d2541c47e0d7",
   "metadata": {
    "tags": []
   },
   "outputs": [
    {
     "name": "stdout",
     "output_type": "stream",
     "text": [
      "torch.Size([32768])\n",
      "tensor([10.8674, 10.6658, 10.7508,  ...,  7.1963,  8.4935,  2.6850])\n",
      "tensor([10.1380, 10.1215, 10.2452, 10.0605, 10.4599, 10.3571, 10.2644, 10.3449,\n",
      "        10.3010, 10.1301])\n"
     ]
    }
   ],
   "source": [
    "import torch\n",
    "y_dict = torch.load(\"data/tensors/y.pth\")\n",
    "y = y_dict['y']\n",
    "print(y.shape)\n",
    "print(y)\n",
    "print(y[550:560])"
   ]
  }
 ],
 "metadata": {
  "kernelspec": {
   "display_name": "Python 3 (ipykernel)",
   "language": "python",
   "name": "python3"
  },
  "language_info": {
   "codemirror_mode": {
    "name": "ipython",
    "version": 3
   },
   "file_extension": ".py",
   "mimetype": "text/x-python",
   "name": "python",
   "nbconvert_exporter": "python",
   "pygments_lexer": "ipython3",
   "version": "3.11.7"
  }
 },
 "nbformat": 4,
 "nbformat_minor": 5
}
