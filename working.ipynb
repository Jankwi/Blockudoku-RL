{
 "cells": [
  {
   "cell_type": "code",
   "execution_count": 3,
   "id": "166b663d-8161-45fc-b40e-bea8d239dced",
   "metadata": {},
   "outputs": [],
   "source": [
    "from blockulib.playing import ModelBasedLoop\n",
    "import blockulib.models as blom\n",
    "import blockulib\n",
    "import torch"
   ]
  },
  {
   "cell_type": "code",
   "execution_count": 4,
   "id": "784508bd-7ff7-4865-a9ba-63651657abb3",
   "metadata": {},
   "outputs": [],
   "source": [
    "class Probe(ModelBasedLoop):\n",
    "    \n",
    "    def __call__(self, pos_tensor, depth = 5, batch_size = 4096, temperature = 1.0, top_k: int = None):\n",
    "        num_games = pos_tensor.shape[0]\n",
    "        state = [True for i in range(num_games)]\n",
    "        game_length = torch.zeros(num_games)\n",
    "        last_logit = torch.full((num_games, ), float('-inf'))\n",
    "        active_games = num_games\n",
    "        \n",
    "        for d in range(depth):\n",
    "            new_index = []\n",
    "            for i in range(num_games):\n",
    "                if state[i]:\n",
    "                    new_index.append(i)\n",
    "            boards = [pos_tensor[new_index[i]].clone() for i in range(active_games)]\n",
    "            pos, ind = blockulib.possible_moves(boards, self.generator)\n",
    "            logits = self.get_model_pred(pos, batch_size = batch_size)\n",
    "            decisions = blockulib.logits_to_choices(logits, ind, active_games, temperature = temperature, top_k = top_k)\n",
    "            \n",
    "            #print(\"act \", active_games)\n",
    "            #print(\"ni \", len(new_index))\n",
    "            #print(\"dec \", decisions)\n",
    "            for i in range(active_games):\n",
    "                if (decisions[i] is None):\n",
    "                    state[new_index[i]] = False\n",
    "                    active_games -= 1\n",
    "                else:\n",
    "                    pos_tensor[new_index[i]] = pos[decisions[i]]\n",
    "                    game_length[new_index[i]] += 1.\n",
    "                    last_logit[new_index[i]] = logits[decisions[i]]\n",
    "            if (active_games == 0):\n",
    "                break\n",
    "           \n",
    "        return game_length, last_logit"
   ]
  },
  {
   "cell_type": "code",
   "execution_count": 5,
   "id": "310aaed6-4715-4f23-b81e-29a376f0c65e",
   "metadata": {
    "tags": []
   },
   "outputs": [
    {
     "name": "stdout",
     "output_type": "stream",
     "text": [
      "torch.Size([40, 9, 9])\n"
     ]
    }
   ],
   "source": [
    "tensor_dir = \"data/tensors/\"\n",
    "x_dict = torch.load(tensor_dir + \"x.pth\")\n",
    "x = x_dict['x'][3056:3060]\n",
    "#x = x.unsqueeze(0)\n",
    "x = x.repeat_interleave(10, dim=0)\n",
    "print(x.shape)"
   ]
  },
  {
   "cell_type": "code",
   "execution_count": 6,
   "id": "4aacb4da-f338-4ff5-89ba-46af14b589bf",
   "metadata": {},
   "outputs": [],
   "source": [
    "from blockulib.data import DataTransformer\n",
    "\n",
    "class DeepSearch(ModelBasedLoop):\n",
    "    def __init__(self):\n",
    "        self.generator = blockulib.BlockGenerator()\n",
    "        self.probe = Probe()\n",
    "        self.dt = DataTransformer()\n",
    "    \n",
    "    def get_model_pred(self, data, batch_size, probes_per_pos = 5):\n",
    "        if (data.shape[0] == 0):\n",
    "            return torch.tensor([])\n",
    "        gls, lls = [], []\n",
    "        for i in range(0, data.shape[0], batch_size):\n",
    "            batch = data[i:i+batch_size]\n",
    "            batch = batch.repeat_interleave(probes_per_pos, dim = 0)\n",
    "            gl, ll = self.probe(pos_tensor = batch, temperature = 0.7, top_k = 5)\n",
    "            gls.append(gl)\n",
    "            lls.append(ll)\n",
    "        GLs = torch.cat(gls)\n",
    "        LLs = torch.cat(lls)\n",
    "        GLs += self.dt.logits_to_nums(LLs)\n",
    "        LLs = self.dt.nums_to_logits(GLs)\n",
    "        LLs = LLs.view(data.shape[0], probes_per_pos).mean(dim = 1)\n",
    "        return LLs\n",
    "                "
   ]
  },
  {
   "cell_type": "code",
   "execution_count": 7,
   "id": "7d9a8b5b-a3d7-4109-83c5-5e36f3827d56",
   "metadata": {},
   "outputs": [],
   "source": [
    "DS = DeepSearch()"
   ]
  },
  {
   "cell_type": "code",
   "execution_count": 8,
   "id": "682cc4cc-c6a1-4503-bc23-f46204d8cb53",
   "metadata": {},
   "outputs": [
    {
     "data": {
      "text/plain": [
       "'\\nimport time\\nstart_time = time.time()\\n\\ndata = DS(num_games = 10, batch_size = 200, temperature = 0.6, top_k = 4)\\n\\nend_time = time.time()\\nelapsed_time = end_time - start_time\\nprint(f\"Elapsed time: {elapsed_time:.6f} seconds\") '"
      ]
     },
     "execution_count": 8,
     "metadata": {},
     "output_type": "execute_result"
    }
   ],
   "source": [
    "\"\"\"\n",
    "import time\n",
    "start_time = time.time()\n",
    "\n",
    "data = DS(num_games = 10, batch_size = 200, temperature = 0.6, top_k = 4)\n",
    "\n",
    "end_time = time.time()\n",
    "elapsed_time = end_time - start_time\n",
    "print(f\"Elapsed time: {elapsed_time:.6f} seconds\") \"\"\""
   ]
  },
  {
   "cell_type": "code",
   "execution_count": 23,
   "id": "cd0170f6-8c11-4df7-8e67-8cf4a14a27c3",
   "metadata": {
    "tags": []
   },
   "outputs": [],
   "source": [
    "from blockulib.data import DataOrganizer"
   ]
  },
  {
   "cell_type": "code",
   "execution_count": 30,
   "id": "e6243dde-cfea-43c6-aa1f-e6a615a0d1e4",
   "metadata": {
    "tags": []
   },
   "outputs": [
    {
     "name": "stdout",
     "output_type": "stream",
     "text": [
      "torch.Size([8196])\n"
     ]
    }
   ],
   "source": [
    "dorg = DataOrganizer()\n",
    "dorg(iteration = 0)"
   ]
  },
  {
   "cell_type": "code",
   "execution_count": 9,
   "id": "9b373787-36b5-47a0-88ac-9fdcfc6479a8",
   "metadata": {},
   "outputs": [
    {
     "data": {
      "text/plain": [
       "' for i in range(10):\\n    print(len(data[i])) '"
      ]
     },
     "execution_count": 9,
     "metadata": {},
     "output_type": "execute_result"
    }
   ],
   "source": [
    "\"\"\" for i in range(10):\n",
    "    print(len(data[i])) \"\"\""
   ]
  },
  {
   "cell_type": "code",
   "execution_count": 10,
   "id": "2b0889cd-e896-4ad1-b503-40ed3bc5f1a3",
   "metadata": {},
   "outputs": [
    {
     "name": "stdout",
     "output_type": "stream",
     "text": [
      "Reminder: Playing loop batch size set to 200\n",
      "Mean MPG : 19.49\n",
      "Elapsed time: 691.421175 seconds\n"
     ]
    }
   ],
   "source": [
    "import time\n",
    "from blockulib.playing import play_games\n",
    "\n",
    "start_time = time.time()\n",
    "\n",
    "play_games(num_games=400, batch_size=10, playing_loop = DeepSearch, save = True, temperature = 0.6, top_k = 4)\n",
    "\n",
    "end_time = time.time()\n",
    "elapsed_time = end_time - start_time\n",
    "print(f\"Elapsed time: {elapsed_time:.6f} seconds\")"
   ]
  }
 ],
 "metadata": {
  "kernelspec": {
   "display_name": "Python 3 (ipykernel)",
   "language": "python",
   "name": "python3"
  },
  "language_info": {
   "codemirror_mode": {
    "name": "ipython",
    "version": 3
   },
   "file_extension": ".py",
   "mimetype": "text/x-python",
   "name": "python",
   "nbconvert_exporter": "python",
   "pygments_lexer": "ipython3",
   "version": "3.11.7"
  }
 },
 "nbformat": 4,
 "nbformat_minor": 5
}
