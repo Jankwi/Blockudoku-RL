{
 "cells": [
  {
   "cell_type": "code",
   "execution_count": 1,
   "id": "c05b0005-2e46-4e8c-bf90-1e73acdba685",
   "metadata": {
    "tags": []
   },
   "outputs": [],
   "source": [
    "from blockulib.pipelines import Configs\n",
    "from blockulib.training import train_model"
   ]
  },
  {
   "cell_type": "code",
   "execution_count": 2,
   "id": "49017cb7-d47f-4eb9-b493-f17eb94a76e4",
   "metadata": {
    "tags": []
   },
   "outputs": [
    {
     "data": {
      "text/plain": [
       "{'train_init_config': {'architecture': blockulib.models.ConvModel,\n",
       "  'tensor_dir': 'data/tensors/'},\n",
       " 'train_config': {'num_epochs': 5,\n",
       "  'step_size': 0.001,\n",
       "  'batch_size': 16,\n",
       "  'log_every': 5},\n",
       " 'train_save_config': {'save_path': 'models/conv_model.pth'}}"
      ]
     },
     "execution_count": 2,
     "metadata": {},
     "output_type": "execute_result"
    }
   ],
   "source": [
    "train_model_config = Configs.train_model_config()\n",
    "train_model_config['train_config']['num_epochs'] = 5\n",
    "train_model_config['train_config']['batch_size'] = 16\n",
    "train_model_config"
   ]
  },
  {
   "cell_type": "code",
   "execution_count": 5,
   "id": "3c8e2869-f88d-4ff2-9c04-711add3fcc05",
   "metadata": {
    "tags": []
   },
   "outputs": [
    {
     "name": "stdout",
     "output_type": "stream",
     "text": [
      "Starting loop i = 0\n",
      "Shape  torch.Size([200, 9, 9])\n",
      "Current value for 0 tensor : -0.11582599580287933\n",
      "Epoch [1/5], Loss: 1.0306\n",
      "Test Loss: 0.9899\n",
      "Current value for 0 tensor : 0.056099891662597656\n",
      "Succesfully saved model\n",
      "Epoch [5/5], Loss: 0.4423\n",
      "Test Loss: 1.0432\n",
      "Starting loop i = 1\n",
      "Shape  torch.Size([200, 9, 9])\n",
      "Current value for 0 tensor : -0.09420189261436462\n",
      "Epoch [1/5], Loss: 0.9095\n",
      "Test Loss: 0.8046\n",
      "Current value for 0 tensor : 0.2513228952884674\n",
      "Succesfully saved model\n",
      "Epoch [5/5], Loss: 0.3847\n",
      "Test Loss: 0.7335\n",
      "Current value for 0 tensor : 0.8738359212875366\n",
      "Succesfully saved model\n",
      "Starting loop i = 2\n",
      "Shape  torch.Size([200, 9, 9])\n",
      "Current value for 0 tensor : -0.09957407414913177\n",
      "Epoch [1/5], Loss: 0.9971\n",
      "Test Loss: 0.9359\n",
      "Current value for 0 tensor : 0.27653732895851135\n",
      "Succesfully saved model\n",
      "Epoch [5/5], Loss: 0.4716\n",
      "Test Loss: 0.8905\n",
      "Current value for 0 tensor : 0.8722865581512451\n",
      "Succesfully saved model\n",
      "Starting loop i = 3\n",
      "Shape  torch.Size([200, 9, 9])\n",
      "Current value for 0 tensor : 0.0966961681842804\n",
      "Epoch [1/5], Loss: 0.9777\n",
      "Test Loss: 0.7071\n",
      "Current value for 0 tensor : 0.16376107931137085\n",
      "Succesfully saved model\n",
      "Epoch [5/5], Loss: 0.4413\n",
      "Test Loss: 0.6435\n",
      "Current value for 0 tensor : 0.9263547658920288\n",
      "Succesfully saved model\n",
      "Starting loop i = 4\n",
      "Shape  torch.Size([200, 9, 9])\n",
      "Current value for 0 tensor : 0.11010861396789551\n",
      "Epoch [1/5], Loss: 0.8618\n",
      "Test Loss: 0.6452\n",
      "Current value for 0 tensor : 0.22345462441444397\n",
      "Succesfully saved model\n",
      "Epoch [5/5], Loss: 0.4427\n",
      "Test Loss: 0.5023\n",
      "Current value for 0 tensor : 0.7334158420562744\n",
      "Succesfully saved model\n"
     ]
    }
   ],
   "source": [
    "for i in range(5):\n",
    "    print (f\"Starting loop i = {i}\")\n",
    "    train_model(**train_model_config)"
   ]
  }
 ],
 "metadata": {
  "kernelspec": {
   "display_name": "Python 3 (ipykernel)",
   "language": "python",
   "name": "python3"
  },
  "language_info": {
   "codemirror_mode": {
    "name": "ipython",
    "version": 3
   },
   "file_extension": ".py",
   "mimetype": "text/x-python",
   "name": "python",
   "nbconvert_exporter": "python",
   "pygments_lexer": "ipython3",
   "version": "3.11.7"
  }
 },
 "nbformat": 4,
 "nbformat_minor": 5
}
