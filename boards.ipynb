{
 "cells": [
  {
   "cell_type": "code",
   "execution_count": 2,
   "id": "9155613e-7fa3-469e-8cc7-25e28fb03906",
   "metadata": {},
   "outputs": [
    {
     "data": {
      "text/plain": [
       "'import torch\\nfrom blockulib.classess import play_games, DataOrganizer\\n\\nplay_games(num_games = 6000, batch_size = 1000)\\ndorg = DataOrganizer()\\ndorg(iteration = 0)'"
      ]
     },
     "execution_count": 2,
     "metadata": {},
     "output_type": "execute_result"
    }
   ],
   "source": [
    "\"\"\"import torch\n",
    "from blockulib.classess import play_games, DataOrganizer\n",
    "\n",
    "play_games(num_games = 6000, batch_size = 1000)\n",
    "dorg = DataOrganizer()\n",
    "dorg(iteration = 0)\"\"\""
   ]
  },
  {
   "cell_type": "code",
   "execution_count": 4,
   "id": "8c8a5756-1ce3-4d73-90da-8f643a2895ef",
   "metadata": {
    "tags": []
   },
   "outputs": [
    {
     "name": "stdout",
     "output_type": "stream",
     "text": [
      "initiated model\n",
      "ConvModel(\n",
      "  (model): Sequential(\n",
      "    (0): Conv2d(1, 16, kernel_size=(3, 3), stride=(1, 1), padding=(1, 1))\n",
      "    (1): ReLU()\n",
      "    (2): Conv2d(16, 32, kernel_size=(3, 3), stride=(1, 1), padding=(1, 1))\n",
      "    (3): ReLU()\n",
      "    (4): Flatten(start_dim=1, end_dim=-1)\n",
      "    (5): Linear(in_features=2592, out_features=64, bias=True)\n",
      "    (6): ReLU()\n",
      "    (7): Linear(in_features=64, out_features=1, bias=True)\n",
      "  )\n",
      ")\n"
     ]
    }
   ],
   "source": [
    "from blockulib.classess import Trainer\n",
    "import blockulib.models as blom\n",
    "\n",
    "train = Trainer(architecture = blom.ConvModel)"
   ]
  },
  {
   "cell_type": "code",
   "execution_count": 5,
   "id": "6c328d15-8558-4c9a-9a5e-7deb3cc86732",
   "metadata": {},
   "outputs": [
    {
     "name": "stdout",
     "output_type": "stream",
     "text": [
      "Epoch [1/5], Loss: 0.4078\n",
      "Test Loss: 0.3845\n",
      "Epoch [2/5], Loss: 0.3747\n",
      "Test Loss: 0.3723\n",
      "Epoch [3/5], Loss: 0.3593\n",
      "Test Loss: 0.3701\n",
      "Epoch [4/5], Loss: 0.3444\n",
      "Test Loss: 0.3680\n",
      "Epoch [5/5], Loss: 0.3286\n",
      "Test Loss: 0.3509\n"
     ]
    }
   ],
   "source": [
    "train(num_epochs = 5, log_every = 1, batch_size = 256, step_size = 1e-3)"
   ]
  },
  {
   "cell_type": "code",
   "execution_count": 6,
   "id": "17e4cba2-9069-4f03-a1a0-1e747271399d",
   "metadata": {
    "tags": []
   },
   "outputs": [
    {
     "name": "stdout",
     "output_type": "stream",
     "text": [
      "Epoch [1/50], Loss: 0.3081\n",
      "Test Loss: 0.3380\n",
      "Epoch [10/50], Loss: 0.1175\n",
      "Test Loss: 0.2148\n",
      "Epoch [20/50], Loss: 0.0593\n",
      "Test Loss: 0.1756\n",
      "Epoch [30/50], Loss: 0.0413\n",
      "Test Loss: 0.1664\n",
      "Epoch [40/50], Loss: 0.0316\n",
      "Test Loss: 0.1631\n",
      "Epoch [50/50], Loss: 0.0273\n",
      "Test Loss: 0.1598\n",
      "Elapsed time: 43.756985 seconds\n"
     ]
    }
   ],
   "source": [
    "import time\n",
    "start_time = time.time()\n",
    "\n",
    "train(num_epochs = 50, log_every = 10, batch_size = 256, step_size = 1e-3)\n",
    "\n",
    "end_time = time.time()\n",
    "elapsed_time = end_time - start_time\n",
    "print(f\"Elapsed time: {elapsed_time:.6f} seconds\")"
   ]
  },
  {
   "cell_type": "code",
   "execution_count": 7,
   "id": "299fe4ac-dd92-4e55-9928-56efe6d08f1a",
   "metadata": {
    "tags": []
   },
   "outputs": [],
   "source": [
    "train.save()"
   ]
  },
  {
   "cell_type": "code",
   "execution_count": null,
   "id": "d60d8fa7-3818-4f70-bb20-5786b6d8131b",
   "metadata": {},
   "outputs": [],
   "source": []
  }
 ],
 "metadata": {
  "kernelspec": {
   "display_name": "Python 3 (ipykernel)",
   "language": "python",
   "name": "python3"
  },
  "language_info": {
   "codemirror_mode": {
    "name": "ipython",
    "version": 3
   },
   "file_extension": ".py",
   "mimetype": "text/x-python",
   "name": "python",
   "nbconvert_exporter": "python",
   "pygments_lexer": "ipython3",
   "version": "3.11.7"
  }
 },
 "nbformat": 4,
 "nbformat_minor": 5
}
