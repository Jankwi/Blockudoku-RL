{
 "cells": [
  {
   "cell_type": "code",
   "execution_count": 13,
   "id": "ceacc9ce-fce1-408b-a90c-95c89ece8010",
   "metadata": {},
   "outputs": [],
   "source": [
    "from blockulib.data import UniqueBased, MostPopular\n",
    "import torch"
   ]
  },
  {
   "cell_type": "code",
   "execution_count": 19,
   "id": "ace963d9-baf1-4fa5-ba0d-75f18e2a862b",
   "metadata": {
    "tags": []
   },
   "outputs": [],
   "source": [
    "def get_unique_test():\n",
    "    example_x = torch.tensor([[[1., 2.], [1., 2.]], [[0., 2.], [1., 2.]], [[0., 2.], [0., 2.]], [[1., 2.], [1., 2.]]])\n",
    "    unique_blocks, inverse, counts = UniqueBased().get_unique(example_x, k = 2)\n",
    "    \n",
    "    expected_unique_blocks = torch.tensor([[[0., 2.],[0., 2.]], [[0., 2.],[1., 2.]], [[1., 2.],[1., 2.]]])\n",
    "    expected_inverse = torch.tensor([2, 1, 0, 2])\n",
    "    expected_counts = torch.tensor([1, 1, 2])\n",
    "    \n",
    "    assert(torch.equal(expected_unique_blocks, unique_blocks))\n",
    "    assert(torch.equal(expected_inverse, inverse))\n",
    "    assert(torch.equal(expected_counts, counts))"
   ]
  },
  {
   "cell_type": "code",
   "execution_count": 21,
   "id": "31519308-dc3c-45b1-a094-424fae3941c7",
   "metadata": {
    "tags": []
   },
   "outputs": [],
   "source": [
    "def most_popular_test():\n",
    "    example_x_list = [torch.tensor([[[0., 0.], [0., 0.]], [[2., 1.], [2., 1.]]]), torch.tensor([[[0., 0.], [0., 0.]]]), torch.tensor([[[2., 1.], [2., 1.]], [[1., 0.], [0., 1.]]])]\n",
    "    example_y_list = [torch.tensor([5., -1.]), torch.tensor([2.]), torch.tensor([1., 1.])]\n",
    "    x, y = MostPopular().choose_boards(example_x_list, example_y_list, threshold = 2, k = 2)\n",
    "    \n",
    "    expected_x = torch.tensor([[[0., 0.], [0., 0.]], [[2., 1.], [2., 1.]]])\n",
    "    expected_y = torch.tensor([3.5, 0.])\n",
    "    \n",
    "    assert(torch.equal(expected_x, x))\n",
    "    assert(torch.equal(expected_y, y))"
   ]
  },
  {
   "cell_type": "code",
   "execution_count": 23,
   "id": "853624f4-1fcc-43d4-b315-2bba039467f0",
   "metadata": {
    "tags": []
   },
   "outputs": [],
   "source": [
    "get_unique_test()\n",
    "most_popular_test()"
   ]
  }
 ],
 "metadata": {
  "kernelspec": {
   "display_name": "Python 3 (ipykernel)",
   "language": "python",
   "name": "python3"
  },
  "language_info": {
   "codemirror_mode": {
    "name": "ipython",
    "version": 3
   },
   "file_extension": ".py",
   "mimetype": "text/x-python",
   "name": "python",
   "nbconvert_exporter": "python",
   "pygments_lexer": "ipython3",
   "version": "3.11.7"
  }
 },
 "nbformat": 4,
 "nbformat_minor": 5
}
