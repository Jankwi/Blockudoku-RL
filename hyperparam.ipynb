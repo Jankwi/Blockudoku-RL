{
 "cells": [
  {
   "cell_type": "code",
   "execution_count": 1,
   "id": "c674ed80-e482-49c4-88e1-16b0f91a08d3",
   "metadata": {
    "tags": []
   },
   "outputs": [],
   "source": [
    "from blockulib.classess import ModelBasedLoop\n",
    "play = ModelBasedLoop()"
   ]
  },
  {
   "cell_type": "code",
   "execution_count": 2,
   "id": "b37676a6-31ad-4f51-877c-94644b971074",
   "metadata": {
    "tags": []
   },
   "outputs": [
    {
     "name": "stdout",
     "output_type": "stream",
     "text": [
      "[0.1, 0.2, 0.3, 0.4, 0.5]\n"
     ]
    }
   ],
   "source": [
    "import torch\n",
    "\n",
    "#temp_list = torch.linspace(0.1, 1.0, steps = 10).tolist()\n",
    "temp_list = [0.1, 0.2, 0.3, 0.4, 0.5]\n",
    "print(temp_list)\n",
    "\n",
    "top_list = [3, 4, 5, 6, 7]"
   ]
  },
  {
   "cell_type": "code",
   "execution_count": 3,
   "id": "bb5c80c1-fd25-438a-abe7-324b10b1f80b",
   "metadata": {
    "tags": []
   },
   "outputs": [
    {
     "name": "stdout",
     "output_type": "stream",
     "text": [
      "Testing temperature = 0.1, top_k = 3 ---> Mean MPG 17.214333333333332\n",
      "Testing temperature = 0.1, top_k = 4 ---> Mean MPG 17.105999999999998\n",
      "Testing temperature = 0.1, top_k = 5 ---> Mean MPG 17.078333333333333\n",
      "Testing temperature = 0.1, top_k = 6 ---> Mean MPG 17.251\n",
      "Testing temperature = 0.1, top_k = 7 ---> Mean MPG 17.039333333333335\n",
      "Testing temperature = 0.2, top_k = 3 ---> Mean MPG 17.164333333333335\n",
      "Testing temperature = 0.2, top_k = 4 ---> Mean MPG 16.97\n",
      "Testing temperature = 0.2, top_k = 5 ---> Mean MPG 17.083\n",
      "Testing temperature = 0.2, top_k = 6 ---> Mean MPG 16.922666666666668\n",
      "Testing temperature = 0.2, top_k = 7 ---> Mean MPG 16.92233333333333\n",
      "Testing temperature = 0.3, top_k = 3 ---> Mean MPG 16.903333333333336\n",
      "Testing temperature = 0.3, top_k = 4 ---> Mean MPG 16.865\n",
      "Testing temperature = 0.3, top_k = 5 ---> Mean MPG 16.968333333333334\n",
      "Testing temperature = 0.3, top_k = 6 ---> Mean MPG 17.112666666666666\n",
      "Testing temperature = 0.3, top_k = 7 ---> Mean MPG 16.999333333333336\n",
      "Testing temperature = 0.4, top_k = 3 ---> Mean MPG 17.041666666666668\n",
      "Testing temperature = 0.4, top_k = 4 ---> Mean MPG 16.872666666666667\n",
      "Testing temperature = 0.4, top_k = 5 ---> Mean MPG 17.139333333333333\n",
      "Testing temperature = 0.4, top_k = 6 ---> Mean MPG 16.953\n",
      "Testing temperature = 0.4, top_k = 7 ---> Mean MPG 16.94666666666667\n",
      "Testing temperature = 0.5, top_k = 3 ---> Mean MPG 16.766000000000002\n",
      "Testing temperature = 0.5, top_k = 4 ---> Mean MPG 16.61\n",
      "Testing temperature = 0.5, top_k = 5 ---> Mean MPG 16.774666666666665\n",
      "Testing temperature = 0.5, top_k = 6 ---> Mean MPG 16.73\n",
      "Testing temperature = 0.5, top_k = 7 ---> Mean MPG 16.656999999999996\n"
     ]
    }
   ],
   "source": [
    "for temp in temp_list:\n",
    "    for top_k in top_list:\n",
    "        TPG = 0\n",
    "        for i in range(3):\n",
    "            board_list = play(num_games = 1000, temperature = temp, top_k = top_k)\n",
    "            TPG += (sum([len(lista) for lista in board_list]))/(len(board_list))\n",
    "        print(f\"Testing temperature = {temp}, top_k = {top_k} ---> Mean MPG {TPG/3 - 1}\")"
   ]
  },
  {
   "cell_type": "code",
   "execution_count": 4,
   "id": "e5eef881-a560-49de-878f-ef88de47bd62",
   "metadata": {
    "tags": []
   },
   "outputs": [
    {
     "data": {
      "text/plain": [
       "'from blockulib.classess import Trainer\\nimport blockulib.models as blom\\n\\ntrain = Trainer(architecture = blom.ConvModel)\\ntrain(num_epochs = 60, log_every = 10, batch_size = 128, step_size = 7e-4) '"
      ]
     },
     "execution_count": 4,
     "metadata": {},
     "output_type": "execute_result"
    }
   ],
   "source": [
    "\"\"\"from blockulib.classess import Trainer\n",
    "import blockulib.models as blom\n",
    "\n",
    "train = Trainer(architecture = blom.ConvModel)\n",
    "train(num_epochs = 60, log_every = 10, batch_size = 128, step_size = 7e-4) \"\"\""
   ]
  }
 ],
 "metadata": {
  "kernelspec": {
   "display_name": "Python 3 (ipykernel)",
   "language": "python",
   "name": "python3"
  },
  "language_info": {
   "codemirror_mode": {
    "name": "ipython",
    "version": 3
   },
   "file_extension": ".py",
   "mimetype": "text/x-python",
   "name": "python",
   "nbconvert_exporter": "python",
   "pygments_lexer": "ipython3",
   "version": "3.11.7"
  }
 },
 "nbformat": 4,
 "nbformat_minor": 5
}
