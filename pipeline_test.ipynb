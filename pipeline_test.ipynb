{
 "cells": [
  {
   "cell_type": "code",
   "execution_count": 1,
   "id": "042dd97e-d491-455f-a816-67a87cc7d402",
   "metadata": {
    "tags": []
   },
   "outputs": [],
   "source": [
    "from blockulib.pipelines import Configs, Pipeline\n",
    "from blockulib.playing import play_games\n",
    "from blockulib.data import DataOrganizer, OneFromEach\n",
    "from blockulib.training import Trainer"
   ]
  },
  {
   "cell_type": "code",
   "execution_count": 2,
   "id": "54019cf8-f317-4873-ab6c-cbe9b65c6700",
   "metadata": {
    "tags": []
   },
   "outputs": [],
   "source": [
    "pipeline_config = {\n",
    "    'num_iterations': 1,\n",
    "    'start_iteration' : 0,\n",
    "    'play_games_config' : Configs.simple_playing_config(num_games = 100*1000, games_at_once = 1000),\n",
    "    'train_model_config' : Configs.train_model_config(num_epochs = 0, log_every = 30),\n",
    "    'Dorg' : OneFromEach,\n",
    "    'dorg_config' : Configs.dorg_config()\n",
    "}"
   ]
  },
  {
   "cell_type": "code",
   "execution_count": 3,
   "id": "0ec2f9b2-8e5f-472d-985d-c1a6e3ee82b3",
   "metadata": {
    "tags": []
   },
   "outputs": [
    {
     "data": {
      "text/plain": [
       "{'num_iterations': 1,\n",
       " 'start_iteration': 0,\n",
       " 'play_games_config': {'num_games': 100000,\n",
       "  'games_at_once': 1000,\n",
       "  'playing_loop': blockulib.playing.ModelBasedLoop,\n",
       "  'save': True,\n",
       "  'playing_config': {'temperature': 0.7,\n",
       "   'top_k': 3,\n",
       "   'pred_config': {'batch_size': 4096}}},\n",
       " 'train_model_config': {'train_init_config': {'architecture': blockulib.models.ConvModel,\n",
       "   'tensor_dir': 'data/tensors/'},\n",
       "  'train_config': {'num_epochs': 0,\n",
       "   'step_size': 0.001,\n",
       "   'batch_size': 512,\n",
       "   'log_every': 30},\n",
       "  'train_save_config': {'save_path': 'models/conv_model.pth'}},\n",
       " 'Dorg': blockulib.data.OneFromEach,\n",
       " 'dorg_config': {}}"
      ]
     },
     "execution_count": 3,
     "metadata": {},
     "output_type": "execute_result"
    }
   ],
   "source": [
    "pipeline_config"
   ]
  },
  {
   "cell_type": "code",
   "execution_count": 4,
   "id": "b35fdf60-3521-47a5-958c-a6adbfc11319",
   "metadata": {
    "tags": []
   },
   "outputs": [],
   "source": [
    "blockupipe = Pipeline()"
   ]
  },
  {
   "cell_type": "code",
   "execution_count": 5,
   "id": "9def6311-5677-478a-88e7-5f887f2ffee3",
   "metadata": {
    "tags": []
   },
   "outputs": [
    {
     "name": "stdout",
     "output_type": "stream",
     "text": [
      "Starting ieration  0\n"
     ]
    },
    {
     "name": "stderr",
     "output_type": "stream",
     "text": [
      "Playing games: 100%|██████████| 100/100 [04:26<00:00,  2.67s/it]\n"
     ]
    },
    {
     "name": "stdout",
     "output_type": "stream",
     "text": [
      "Mean MPG : 17.3795\n",
      "torch.Size([100000])\n",
      "Shape  torch.Size([100000, 9, 9])\n",
      "Elapsed time: 280.247590 seconds\n"
     ]
    }
   ],
   "source": [
    "blockupipe(**pipeline_config)"
   ]
  }
 ],
 "metadata": {
  "kernelspec": {
   "display_name": "Python 3 (ipykernel)",
   "language": "python",
   "name": "python3"
  },
  "language_info": {
   "codemirror_mode": {
    "name": "ipython",
    "version": 3
   },
   "file_extension": ".py",
   "mimetype": "text/x-python",
   "name": "python",
   "nbconvert_exporter": "python",
   "pygments_lexer": "ipython3",
   "version": "3.11.7"
  }
 },
 "nbformat": 4,
 "nbformat_minor": 5
}
