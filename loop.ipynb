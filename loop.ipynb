{
 "cells": [
  {
   "cell_type": "code",
   "execution_count": 3,
   "id": "9911c2f2-3b20-43e1-bc43-c87ed662e348",
   "metadata": {
    "tags": []
   },
   "outputs": [],
   "source": [
    "import torch\n",
    "import time\n",
    "from blockulib.data import DataOrganizer\n",
    "from blockulib.training import Trainer\n",
    "from blockulib.playing import DeepSearch, play_games\n",
    "import blockulib.models as blom"
   ]
  },
  {
   "cell_type": "code",
   "execution_count": 4,
   "id": "d40d20c8-892b-4294-9d43-ee08374d5096",
   "metadata": {
    "tags": []
   },
   "outputs": [
    {
     "data": {
      "text/plain": [
       "' save_dir = \"models/conv_model.pth\"\\n\\nmodel = blom.ConvModel()\\ntorch.save(model.state_dict(), save_dir) '"
      ]
     },
     "execution_count": 4,
     "metadata": {},
     "output_type": "execute_result"
    }
   ],
   "source": [
    "\"\"\" save_dir = \"models/conv_model.pth\"\n",
    "\n",
    "model = blom.ConvModel()\n",
    "torch.save(model.state_dict(), save_dir) \"\"\""
   ]
  },
  {
   "cell_type": "code",
   "execution_count": 5,
   "id": "c5d20031-3c35-41a2-b0f8-f21109311b3f",
   "metadata": {
    "tags": []
   },
   "outputs": [
    {
     "data": {
      "text/plain": [
       "'\\ndorg = DataOrganizer()\\n\\nprint(\"Starting epoch \", 0)\\nstart_time = time.time()\\n    \\nplay_games(num_games = 6000, games_at_once = 1000, save = True, playing_loop = ModelBasedLoop, top_k = 5, temperature = 0.3)\\ndorg(iteration = 0)\\ntrain = Trainer(architecture = blom.ConvModel)\\ntrain(num_epochs = 60, log_every = 30, batch_size = 256, step_size = 1e-3)\\ntrain.save()\\n    \\nend_time = time.time()\\nelapsed_time = end_time - start_time\\nprint(f\"Elapsed time: {elapsed_time:.6f} seconds\") '"
      ]
     },
     "execution_count": 5,
     "metadata": {},
     "output_type": "execute_result"
    }
   ],
   "source": [
    "\"\"\"\n",
    "dorg = DataOrganizer()\n",
    "\n",
    "print(\"Starting epoch \", 0)\n",
    "start_time = time.time()\n",
    "    \n",
    "play_games(num_games = 6000, games_at_once = 1000, save = True, playing_loop = ModelBasedLoop, top_k = 5, temperature = 0.3)\n",
    "dorg(iteration = 0)\n",
    "train = Trainer(architecture = blom.ConvModel)\n",
    "train(num_epochs = 60, log_every = 30, batch_size = 256, step_size = 1e-3)\n",
    "train.save()\n",
    "    \n",
    "end_time = time.time()\n",
    "elapsed_time = end_time - start_time\n",
    "print(f\"Elapsed time: {elapsed_time:.6f} seconds\") \"\"\""
   ]
  },
  {
   "cell_type": "code",
   "execution_count": 6,
   "id": "0df46844-4670-474e-ba84-c0d417e1343f",
   "metadata": {
    "tags": []
   },
   "outputs": [
    {
     "name": "stdout",
     "output_type": "stream",
     "text": [
      "Starting epoch  1\n"
     ]
    },
    {
     "name": "stderr",
     "output_type": "stream",
     "text": [
      "Playing games: 100%|██████████| 50/50 [09:31<00:00, 11.43s/it]\n"
     ]
    },
    {
     "name": "stdout",
     "output_type": "stream",
     "text": [
      "Mean MPG : 20.0546\n",
      "torch.Size([105273])\n",
      "Epoch [1/200], Loss: 0.6349\n",
      "Test Loss: 0.5969\n",
      "Epoch [50/200], Loss: 0.0541\n",
      "Test Loss: 0.2546\n",
      "Epoch [100/200], Loss: 0.0363\n",
      "Test Loss: 0.2563\n",
      "Epoch [150/200], Loss: 0.0311\n",
      "Test Loss: 0.2622\n",
      "Epoch [200/200], Loss: 0.0283\n",
      "Test Loss: 0.2671\n",
      "Elapsed time: 761.370489 seconds\n",
      "Starting epoch  2\n"
     ]
    },
    {
     "name": "stderr",
     "output_type": "stream",
     "text": [
      "Playing games: 100%|██████████| 50/50 [09:06<00:00, 10.92s/it]\n"
     ]
    },
    {
     "name": "stdout",
     "output_type": "stream",
     "text": [
      "Mean MPG : 19.7288\n",
      "torch.Size([103644])\n",
      "Epoch [1/200], Loss: 0.6277\n",
      "Test Loss: 0.6013\n",
      "Epoch [50/200], Loss: 0.0552\n",
      "Test Loss: 0.2574\n",
      "Epoch [100/200], Loss: 0.0362\n",
      "Test Loss: 0.2584\n",
      "Epoch [150/200], Loss: 0.0312\n",
      "Test Loss: 0.2620\n",
      "Epoch [200/200], Loss: 0.0275\n",
      "Test Loss: 0.2659\n",
      "Elapsed time: 728.370103 seconds\n",
      "Starting epoch  3\n"
     ]
    },
    {
     "name": "stderr",
     "output_type": "stream",
     "text": [
      "Playing games: 100%|██████████| 50/50 [09:24<00:00, 11.29s/it]\n"
     ]
    },
    {
     "name": "stdout",
     "output_type": "stream",
     "text": [
      "Mean MPG : 20.0942\n",
      "torch.Size([105471])\n",
      "Epoch [1/200], Loss: 0.6365\n",
      "Test Loss: 0.6006\n",
      "Epoch [50/200], Loss: 0.0515\n",
      "Test Loss: 0.2498\n",
      "Epoch [100/200], Loss: 0.0345\n",
      "Test Loss: 0.2475\n",
      "Epoch [150/200], Loss: 0.0295\n",
      "Test Loss: 0.2511\n",
      "Epoch [200/200], Loss: 0.0266\n",
      "Test Loss: 0.2500\n",
      "Elapsed time: 752.630703 seconds\n",
      "Starting epoch  4\n"
     ]
    },
    {
     "name": "stderr",
     "output_type": "stream",
     "text": [
      "Playing games: 100%|██████████| 50/50 [09:13<00:00, 11.07s/it]\n"
     ]
    },
    {
     "name": "stdout",
     "output_type": "stream",
     "text": [
      "Mean MPG : 20.0404\n",
      "torch.Size([105202])\n",
      "Epoch [1/200], Loss: 0.6270\n",
      "Test Loss: 0.5931\n",
      "Epoch [50/200], Loss: 0.0633\n",
      "Test Loss: 0.2648\n",
      "Epoch [100/200], Loss: 0.0400\n",
      "Test Loss: 0.2652\n",
      "Epoch [150/200], Loss: 0.0330\n",
      "Test Loss: 0.2711\n",
      "Epoch [200/200], Loss: 0.0303\n",
      "Test Loss: 0.2751\n",
      "Elapsed time: 743.450655 seconds\n",
      "Starting epoch  5\n"
     ]
    },
    {
     "name": "stderr",
     "output_type": "stream",
     "text": [
      "Playing games: 100%|██████████| 50/50 [09:32<00:00, 11.45s/it]\n"
     ]
    },
    {
     "name": "stdout",
     "output_type": "stream",
     "text": [
      "Mean MPG : 20.5828\n",
      "torch.Size([107914])\n",
      "Epoch [1/200], Loss: 0.6504\n",
      "Test Loss: 0.6225\n",
      "Epoch [50/200], Loss: 0.0705\n",
      "Test Loss: 0.2866\n",
      "Epoch [100/200], Loss: 0.0464\n",
      "Test Loss: 0.2963\n",
      "Epoch [150/200], Loss: 0.0387\n",
      "Test Loss: 0.2968\n",
      "Epoch [200/200], Loss: 0.0346\n",
      "Test Loss: 0.3012\n",
      "Elapsed time: 766.631649 seconds\n",
      "Starting epoch  6\n"
     ]
    },
    {
     "name": "stderr",
     "output_type": "stream",
     "text": [
      "Playing games: 100%|██████████| 50/50 [09:12<00:00, 11.04s/it]\n"
     ]
    },
    {
     "name": "stdout",
     "output_type": "stream",
     "text": [
      "Mean MPG : 19.8\n",
      "torch.Size([104000])\n",
      "Epoch [1/200], Loss: 0.6057\n",
      "Test Loss: 0.5797\n"
     ]
    },
    {
     "ename": "KeyboardInterrupt",
     "evalue": "",
     "output_type": "error",
     "traceback": [
      "\u001b[1;31m---------------------------------------------------------------------------\u001b[0m",
      "\u001b[1;31mKeyboardInterrupt\u001b[0m                         Traceback (most recent call last)",
      "Cell \u001b[1;32mIn[6], line 10\u001b[0m\n\u001b[0;32m      8\u001b[0m dorg(iteration \u001b[38;5;241m=\u001b[39m i)\n\u001b[0;32m      9\u001b[0m train \u001b[38;5;241m=\u001b[39m Trainer(architecture \u001b[38;5;241m=\u001b[39m blom\u001b[38;5;241m.\u001b[39mConvModel)\n\u001b[1;32m---> 10\u001b[0m train(num_epochs \u001b[38;5;241m=\u001b[39m \u001b[38;5;241m200\u001b[39m, log_every \u001b[38;5;241m=\u001b[39m \u001b[38;5;241m50\u001b[39m, batch_size \u001b[38;5;241m=\u001b[39m \u001b[38;5;241m256\u001b[39m, step_size \u001b[38;5;241m=\u001b[39m \u001b[38;5;241m1e-3\u001b[39m)\n\u001b[0;32m     11\u001b[0m train\u001b[38;5;241m.\u001b[39msave()\n\u001b[0;32m     13\u001b[0m end_time \u001b[38;5;241m=\u001b[39m time\u001b[38;5;241m.\u001b[39mtime()\n",
      "File \u001b[1;32m~\\OneDrive\\Dokumenty\\blockudoku\\Blockudoku-RL\\blockulib\\training.py:29\u001b[0m, in \u001b[0;36mTrainer.__call__\u001b[1;34m(self, num_epochs, step_size, batch_size, log_every)\u001b[0m\n\u001b[0;32m     27\u001b[0m \u001b[38;5;28;01mfor\u001b[39;00m epoch \u001b[38;5;129;01min\u001b[39;00m \u001b[38;5;28mrange\u001b[39m(num_epochs):\n\u001b[0;32m     28\u001b[0m     total_loss \u001b[38;5;241m=\u001b[39m \u001b[38;5;241m0.0\u001b[39m\n\u001b[1;32m---> 29\u001b[0m     \u001b[38;5;28;01mfor\u001b[39;00m x_batch, y_batch \u001b[38;5;129;01min\u001b[39;00m train_loader:\n\u001b[0;32m     30\u001b[0m         x_batch \u001b[38;5;241m=\u001b[39m x_batch\u001b[38;5;241m.\u001b[39mto(device)\u001b[38;5;241m.\u001b[39munsqueeze(\u001b[38;5;241m1\u001b[39m)\n\u001b[0;32m     31\u001b[0m         y_batch \u001b[38;5;241m=\u001b[39m y_batch\u001b[38;5;241m.\u001b[39mto(device)\n",
      "File \u001b[1;32m~\\anaconda3\\Lib\\site-packages\\torch\\utils\\data\\dataloader.py:627\u001b[0m, in \u001b[0;36m_BaseDataLoaderIter.__next__\u001b[1;34m(self)\u001b[0m\n\u001b[0;32m    626\u001b[0m \u001b[38;5;28;01mdef\u001b[39;00m \u001b[38;5;21m__next__\u001b[39m(\u001b[38;5;28mself\u001b[39m) \u001b[38;5;241m-\u001b[39m\u001b[38;5;241m>\u001b[39m Any:\n\u001b[1;32m--> 627\u001b[0m     \u001b[38;5;28;01mwith\u001b[39;00m torch\u001b[38;5;241m.\u001b[39mautograd\u001b[38;5;241m.\u001b[39mprofiler\u001b[38;5;241m.\u001b[39mrecord_function(\u001b[38;5;28mself\u001b[39m\u001b[38;5;241m.\u001b[39m_profile_name):\n\u001b[0;32m    628\u001b[0m         \u001b[38;5;28;01mif\u001b[39;00m \u001b[38;5;28mself\u001b[39m\u001b[38;5;241m.\u001b[39m_sampler_iter \u001b[38;5;129;01mis\u001b[39;00m \u001b[38;5;28;01mNone\u001b[39;00m:\n\u001b[0;32m    629\u001b[0m             \u001b[38;5;66;03m# TODO(https://github.com/pytorch/pytorch/issues/76750)\u001b[39;00m\n\u001b[0;32m    630\u001b[0m             \u001b[38;5;28mself\u001b[39m\u001b[38;5;241m.\u001b[39m_reset()  \u001b[38;5;66;03m# type: ignore[call-arg]\u001b[39;00m\n",
      "File \u001b[1;32m~\\anaconda3\\Lib\\site-packages\\torch\\autograd\\profiler.py:610\u001b[0m, in \u001b[0;36mrecord_function.__exit__\u001b[1;34m(self, exc_type, exc_value, traceback)\u001b[0m\n\u001b[0;32m    605\u001b[0m     \u001b[38;5;28mself\u001b[39m\u001b[38;5;241m.\u001b[39mrecord \u001b[38;5;241m=\u001b[39m torch\u001b[38;5;241m.\u001b[39mops\u001b[38;5;241m.\u001b[39mprofiler\u001b[38;5;241m.\u001b[39m_record_function_enter_new(\n\u001b[0;32m    606\u001b[0m         \u001b[38;5;28mself\u001b[39m\u001b[38;5;241m.\u001b[39mname, \u001b[38;5;28mself\u001b[39m\u001b[38;5;241m.\u001b[39margs\n\u001b[0;32m    607\u001b[0m     )\n\u001b[0;32m    608\u001b[0m     \u001b[38;5;28;01mreturn\u001b[39;00m \u001b[38;5;28mself\u001b[39m\n\u001b[1;32m--> 610\u001b[0m \u001b[38;5;28;01mdef\u001b[39;00m \u001b[38;5;21m__exit__\u001b[39m(\u001b[38;5;28mself\u001b[39m, exc_type: Any, exc_value: Any, traceback: Any):\n\u001b[0;32m    611\u001b[0m     \u001b[38;5;28;01mif\u001b[39;00m \u001b[38;5;129;01mnot\u001b[39;00m \u001b[38;5;28mself\u001b[39m\u001b[38;5;241m.\u001b[39mrun_callbacks_on_exit:\n\u001b[0;32m    612\u001b[0m         \u001b[38;5;28;01mreturn\u001b[39;00m\n",
      "\u001b[1;31mKeyboardInterrupt\u001b[0m: "
     ]
    }
   ],
   "source": [
    "dorg = DataOrganizer()\n",
    "\n",
    "for i in range(1, 11):\n",
    "    print(\"Starting epoch \", i)\n",
    "    start_time = time.time()\n",
    "    \n",
    "    play_games(num_games = 5000, games_at_once = 100, save = True, playing_loop = DeepSearch, top_k = 3, temperature = 0.3)\n",
    "    dorg(iteration = i)\n",
    "    train = Trainer(architecture = blom.ConvModel)\n",
    "    train(num_epochs = 200, log_every = 50, batch_size = 256, step_size = 1e-3)\n",
    "    train.save()\n",
    "    \n",
    "    end_time = time.time()\n",
    "    elapsed_time = end_time - start_time\n",
    "    print(f\"Elapsed time: {elapsed_time:.6f} seconds\")\n",
    "    "
   ]
  }
 ],
 "metadata": {
  "kernelspec": {
   "display_name": "Python 3 (ipykernel)",
   "language": "python",
   "name": "python3"
  },
  "language_info": {
   "codemirror_mode": {
    "name": "ipython",
    "version": 3
   },
   "file_extension": ".py",
   "mimetype": "text/x-python",
   "name": "python",
   "nbconvert_exporter": "python",
   "pygments_lexer": "ipython3",
   "version": "3.11.7"
  }
 },
 "nbformat": 4,
 "nbformat_minor": 5
}
