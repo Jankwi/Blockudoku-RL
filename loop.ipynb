{
 "cells": [
  {
   "cell_type": "code",
   "execution_count": 1,
   "id": "9911c2f2-3b20-43e1-bc43-c87ed662e348",
   "metadata": {
    "tags": []
   },
   "outputs": [],
   "source": [
    "import torch\n",
    "import time\n",
    "from blockulib.data import DataOrganizer\n",
    "from blockulib.training import Trainer\n",
    "from blockulib.playing import DeepSearch, play_games\n",
    "import blockulib.models as blom"
   ]
  },
  {
   "cell_type": "code",
   "execution_count": 2,
   "id": "d40d20c8-892b-4294-9d43-ee08374d5096",
   "metadata": {
    "tags": []
   },
   "outputs": [
    {
     "data": {
      "text/plain": [
       "' save_dir = \"models/conv_model.pth\"\\n\\nmodel = blom.ConvModel()\\ntorch.save(model.state_dict(), save_dir) '"
      ]
     },
     "execution_count": 2,
     "metadata": {},
     "output_type": "execute_result"
    }
   ],
   "source": [
    "\"\"\" save_dir = \"models/conv_model.pth\"\n",
    "\n",
    "model = blom.ConvModel()\n",
    "torch.save(model.state_dict(), save_dir) \"\"\""
   ]
  },
  {
   "cell_type": "code",
   "execution_count": 3,
   "id": "c5d20031-3c35-41a2-b0f8-f21109311b3f",
   "metadata": {
    "tags": []
   },
   "outputs": [
    {
     "data": {
      "text/plain": [
       "'dorg = DataOrganizer()\\n\\nprint(\"Starting epoch \", 0)\\nstart_time = time.time()\\n    \\nplay_games(num_games = 6000, batch_size = 1000, playing_loop = SimpleLoop, top_k = 5, temperature = 0.3)\\ndorg(iteration = 0)\\ntrain = Trainer(architecture = blom.ConvModel)\\ntrain(num_epochs = 60, log_every = 30, batch_size = 256, step_size = 1e-3)\\ntrain.save()\\n    \\nend_time = time.time()\\nelapsed_time = end_time - start_time\\nprint(f\"Elapsed time: {elapsed_time:.6f} seconds\") '"
      ]
     },
     "execution_count": 3,
     "metadata": {},
     "output_type": "execute_result"
    }
   ],
   "source": [
    "\"\"\"dorg = DataOrganizer()\n",
    "\n",
    "print(\"Starting epoch \", 0)\n",
    "start_time = time.time()\n",
    "    \n",
    "play_games(num_games = 6000, batch_size = 1000, playing_loop = SimpleLoop, top_k = 5, temperature = 0.3)\n",
    "dorg(iteration = 0)\n",
    "train = Trainer(architecture = blom.ConvModel)\n",
    "train(num_epochs = 60, log_every = 30, batch_size = 256, step_size = 1e-3)\n",
    "train.save()\n",
    "    \n",
    "end_time = time.time()\n",
    "elapsed_time = end_time - start_time\n",
    "print(f\"Elapsed time: {elapsed_time:.6f} seconds\") \"\"\""
   ]
  },
  {
   "cell_type": "code",
   "execution_count": 4,
   "id": "0df46844-4670-474e-ba84-c0d417e1343f",
   "metadata": {
    "tags": []
   },
   "outputs": [
    {
     "name": "stdout",
     "output_type": "stream",
     "text": [
      "Starting epoch  1\n",
      "Reminder: Playing loop batch size set to 200\n",
      "Mean MPG : 19.195\n",
      "torch.Size([8078])\n",
      "Epoch [1/200], Loss: 0.7327\n",
      "Test Loss: 0.6357\n",
      "Epoch [50/200], Loss: 0.0491\n",
      "Test Loss: 0.1700\n",
      "Epoch [100/200], Loss: 0.0254\n",
      "Test Loss: 0.1659\n",
      "Epoch [150/200], Loss: 0.0164\n",
      "Test Loss: 0.1518\n",
      "Epoch [200/200], Loss: 0.0173\n",
      "Test Loss: 0.1559\n",
      "Elapsed time: 683.588450 seconds\n",
      "Starting epoch  2\n",
      "Reminder: Playing loop batch size set to 200\n",
      "Mean MPG : 18.38\n",
      "torch.Size([7752])\n",
      "Epoch [1/200], Loss: 0.6651\n",
      "Test Loss: 0.5592\n",
      "Epoch [50/200], Loss: 0.0438\n",
      "Test Loss: 0.1868\n",
      "Epoch [100/200], Loss: 0.0195\n",
      "Test Loss: 0.1520\n",
      "Epoch [150/200], Loss: 0.0146\n",
      "Test Loss: 0.1475\n",
      "Epoch [200/200], Loss: 0.0134\n",
      "Test Loss: 0.1441\n",
      "Elapsed time: 648.288504 seconds\n",
      "Starting epoch  3\n",
      "Reminder: Playing loop batch size set to 200\n"
     ]
    },
    {
     "ename": "KeyboardInterrupt",
     "evalue": "",
     "output_type": "error",
     "traceback": [
      "\u001b[1;31m---------------------------------------------------------------------------\u001b[0m",
      "\u001b[1;31mKeyboardInterrupt\u001b[0m                         Traceback (most recent call last)",
      "Cell \u001b[1;32mIn[4], line 7\u001b[0m\n\u001b[0;32m      4\u001b[0m \u001b[38;5;28mprint\u001b[39m(\u001b[38;5;124m\"\u001b[39m\u001b[38;5;124mStarting epoch \u001b[39m\u001b[38;5;124m\"\u001b[39m, i)\n\u001b[0;32m      5\u001b[0m start_time \u001b[38;5;241m=\u001b[39m time\u001b[38;5;241m.\u001b[39mtime()\n\u001b[1;32m----> 7\u001b[0m play_games(num_games\u001b[38;5;241m=\u001b[39m\u001b[38;5;241m400\u001b[39m, batch_size\u001b[38;5;241m=\u001b[39m\u001b[38;5;241m10\u001b[39m, playing_loop \u001b[38;5;241m=\u001b[39m DeepSearch, save \u001b[38;5;241m=\u001b[39m \u001b[38;5;28;01mTrue\u001b[39;00m, temperature \u001b[38;5;241m=\u001b[39m \u001b[38;5;241m0.6\u001b[39m, top_k \u001b[38;5;241m=\u001b[39m \u001b[38;5;241m4\u001b[39m)\n\u001b[0;32m      8\u001b[0m dorg(iteration \u001b[38;5;241m=\u001b[39m i)\n\u001b[0;32m      9\u001b[0m train \u001b[38;5;241m=\u001b[39m Trainer(architecture \u001b[38;5;241m=\u001b[39m blom\u001b[38;5;241m.\u001b[39mConvModel)\n",
      "File \u001b[1;32m~\\OneDrive\\Dokumenty\\blockudoku\\Blockudoku-RL\\blockulib\\playing.py:164\u001b[0m, in \u001b[0;36mplay_games\u001b[1;34m(num_games, batch_size, playing_loop, save, save_dir, temperature, top_k)\u001b[0m\n\u001b[0;32m    162\u001b[0m \u001b[38;5;28;01mfor\u001b[39;00m left \u001b[38;5;129;01min\u001b[39;00m \u001b[38;5;28mrange\u001b[39m(\u001b[38;5;241m0\u001b[39m, num_games, batch_size):\n\u001b[0;32m    163\u001b[0m     right \u001b[38;5;241m=\u001b[39m \u001b[38;5;28mmin\u001b[39m(num_games, left\u001b[38;5;241m+\u001b[39mbatch_size)\n\u001b[1;32m--> 164\u001b[0m     data \u001b[38;5;241m=\u001b[39m loop(num_games \u001b[38;5;241m=\u001b[39m (right \u001b[38;5;241m-\u001b[39m left), batch_size \u001b[38;5;241m=\u001b[39m \u001b[38;5;241m200\u001b[39m, temperature \u001b[38;5;241m=\u001b[39m temperature, top_k \u001b[38;5;241m=\u001b[39m top_k)\n\u001b[0;32m    165\u001b[0m     \u001b[38;5;28;01mfor\u001b[39;00m i \u001b[38;5;129;01min\u001b[39;00m \u001b[38;5;28mrange\u001b[39m((right\u001b[38;5;241m-\u001b[39mleft)):\n\u001b[0;32m    166\u001b[0m         y_list\u001b[38;5;241m.\u001b[39mappend(torch\u001b[38;5;241m.\u001b[39mlinspace(\u001b[38;5;28mlen\u001b[39m(data[i])\u001b[38;5;241m-\u001b[39m\u001b[38;5;241m1\u001b[39m, \u001b[38;5;241m0\u001b[39m, steps \u001b[38;5;241m=\u001b[39m \u001b[38;5;28mlen\u001b[39m(data[i])))\n",
      "File \u001b[1;32m~\\OneDrive\\Dokumenty\\blockudoku\\Blockudoku-RL\\blockulib\\playing.py:69\u001b[0m, in \u001b[0;36mModelBasedLoop.__call__\u001b[1;34m(self, num_games, batch_size, temperature, top_k)\u001b[0m\n\u001b[0;32m     66\u001b[0m boards \u001b[38;5;241m=\u001b[39m [pos_list[new_index[i]][\u001b[38;5;241m-\u001b[39m\u001b[38;5;241m1\u001b[39m]\u001b[38;5;241m.\u001b[39mclone() \u001b[38;5;28;01mfor\u001b[39;00m i \u001b[38;5;129;01min\u001b[39;00m \u001b[38;5;28mrange\u001b[39m(active_games)]\n\u001b[0;32m     68\u001b[0m pos, ind \u001b[38;5;241m=\u001b[39m blockulib\u001b[38;5;241m.\u001b[39mpossible_moves(boards, \u001b[38;5;28mself\u001b[39m\u001b[38;5;241m.\u001b[39mgenerator)\n\u001b[1;32m---> 69\u001b[0m logits \u001b[38;5;241m=\u001b[39m \u001b[38;5;28mself\u001b[39m\u001b[38;5;241m.\u001b[39mget_model_pred(pos, batch_size \u001b[38;5;241m=\u001b[39m batch_size)\n\u001b[0;32m     70\u001b[0m decisions \u001b[38;5;241m=\u001b[39m blockulib\u001b[38;5;241m.\u001b[39mlogits_to_choices(logits, ind, active_games, temperature \u001b[38;5;241m=\u001b[39m temperature, top_k \u001b[38;5;241m=\u001b[39m top_k)\n\u001b[0;32m     72\u001b[0m \u001b[38;5;28;01mfor\u001b[39;00m i \u001b[38;5;129;01min\u001b[39;00m \u001b[38;5;28mrange\u001b[39m(active_games):\n",
      "File \u001b[1;32m~\\OneDrive\\Dokumenty\\blockudoku\\Blockudoku-RL\\blockulib\\playing.py:147\u001b[0m, in \u001b[0;36mDeepSearch.get_model_pred\u001b[1;34m(self, data, batch_size, probes_per_pos)\u001b[0m\n\u001b[0;32m    145\u001b[0m batch \u001b[38;5;241m=\u001b[39m data[i:i\u001b[38;5;241m+\u001b[39mbatch_size]\n\u001b[0;32m    146\u001b[0m batch \u001b[38;5;241m=\u001b[39m batch\u001b[38;5;241m.\u001b[39mrepeat_interleave(probes_per_pos, dim \u001b[38;5;241m=\u001b[39m \u001b[38;5;241m0\u001b[39m)\n\u001b[1;32m--> 147\u001b[0m gl, ll \u001b[38;5;241m=\u001b[39m \u001b[38;5;28mself\u001b[39m\u001b[38;5;241m.\u001b[39mprobe(pos_tensor \u001b[38;5;241m=\u001b[39m batch, temperature \u001b[38;5;241m=\u001b[39m \u001b[38;5;241m0.7\u001b[39m, top_k \u001b[38;5;241m=\u001b[39m \u001b[38;5;241m5\u001b[39m)\n\u001b[0;32m    148\u001b[0m gls\u001b[38;5;241m.\u001b[39mappend(gl)\n\u001b[0;32m    149\u001b[0m lls\u001b[38;5;241m.\u001b[39mappend(ll)\n",
      "File \u001b[1;32m~\\OneDrive\\Dokumenty\\blockudoku\\Blockudoku-RL\\blockulib\\playing.py:128\u001b[0m, in \u001b[0;36mProbe.__call__\u001b[1;34m(self, pos_tensor, depth, batch_size, temperature, top_k)\u001b[0m\n\u001b[0;32m    126\u001b[0m         pos_tensor[new_index[i]] \u001b[38;5;241m=\u001b[39m pos[decisions[i]]\n\u001b[0;32m    127\u001b[0m         game_length[new_index[i]] \u001b[38;5;241m+\u001b[39m\u001b[38;5;241m=\u001b[39m \u001b[38;5;241m1.\u001b[39m\n\u001b[1;32m--> 128\u001b[0m         last_logit[new_index[i]] \u001b[38;5;241m=\u001b[39m logits[decisions[i]]\n\u001b[0;32m    129\u001b[0m \u001b[38;5;28;01mif\u001b[39;00m (active_games \u001b[38;5;241m==\u001b[39m \u001b[38;5;241m0\u001b[39m):\n\u001b[0;32m    130\u001b[0m     \u001b[38;5;28;01mbreak\u001b[39;00m\n",
      "\u001b[1;31mKeyboardInterrupt\u001b[0m: "
     ]
    }
   ],
   "source": [
    "dorg = DataOrganizer()\n",
    "\n",
    "for i in range(1, 11):\n",
    "    print(\"Starting epoch \", i)\n",
    "    start_time = time.time()\n",
    "    \n",
    "    play_games(num_games=400, batch_size=10, playing_loop = DeepSearch, save = True, temperature = 0.6, top_k = 4)\n",
    "    dorg(iteration = i)\n",
    "    train = Trainer(architecture = blom.ConvModel)\n",
    "    train(num_epochs = 200, log_every = 50, batch_size = 256, step_size = 1e-3)\n",
    "    train.save()\n",
    "    \n",
    "    end_time = time.time()\n",
    "    elapsed_time = end_time - start_time\n",
    "    print(f\"Elapsed time: {elapsed_time:.6f} seconds\")\n",
    "    "
   ]
  }
 ],
 "metadata": {
  "kernelspec": {
   "display_name": "Python 3 (ipykernel)",
   "language": "python",
   "name": "python3"
  },
  "language_info": {
   "codemirror_mode": {
    "name": "ipython",
    "version": 3
   },
   "file_extension": ".py",
   "mimetype": "text/x-python",
   "name": "python",
   "nbconvert_exporter": "python",
   "pygments_lexer": "ipython3",
   "version": "3.11.7"
  }
 },
 "nbformat": 4,
 "nbformat_minor": 5
}
