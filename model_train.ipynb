{
 "cells": [
  {
   "cell_type": "code",
   "execution_count": 2,
   "id": "137c2e8e-508a-4d6d-baff-bff0762455f7",
   "metadata": {
    "tags": []
   },
   "outputs": [],
   "source": [
    "from blockulib.pipelines import Configs\n",
    "from blockulib.training import ModelGridSearch\n",
    "import blockulib.models as blom"
   ]
  },
  {
   "cell_type": "code",
   "execution_count": 4,
   "id": "47fb7c9f-00f1-46a4-a10c-ca39ec0fc716",
   "metadata": {
    "tags": []
   },
   "outputs": [
    {
     "name": "stderr",
     "output_type": "stream",
     "text": [
      "[I 2025-08-17 12:39:45,390] A new study created in memory with name: Grid Search for best value prediction model\n"
     ]
    },
    {
     "name": "stdout",
     "output_type": "stream",
     "text": [
      "Initiated Trainer for architecture = <class 'blockulib.models.LinearModel'>\n"
     ]
    },
    {
     "name": "stderr",
     "output_type": "stream",
     "text": [
      "Epoch: 100%|██████████| 50/50 [00:15<00:00,  3.32it/s]\n",
      "[I 2025-08-17 12:40:01,755] Trial 0 finished with value: 0.13176364698862866 and parameters: {'init_config_index': 0, 'lr': 0.006316599886405242, 'batch_size': 128}. Best is trial 0 with value: 0.13176364698862866.\n"
     ]
    },
    {
     "name": "stdout",
     "output_type": "stream",
     "text": [
      "Ended training with the best valid loss of 0.13176364698862866 and test loss of: 0.12420729666193484\n",
      "Initiated Trainer for architecture = <class 'blockulib.models.LinearModel'>\n"
     ]
    },
    {
     "name": "stderr",
     "output_type": "stream",
     "text": [
      "Epoch: 100%|██████████| 50/50 [00:10<00:00,  4.69it/s]\n",
      "[I 2025-08-17 12:40:12,437] Trial 1 finished with value: 0.11710151281523214 and parameters: {'init_config_index': 0, 'lr': 0.0026402102491850767, 'batch_size': 512}. Best is trial 1 with value: 0.11710151281523214.\n"
     ]
    },
    {
     "name": "stdout",
     "output_type": "stream",
     "text": [
      "Ended training with the best valid loss of 0.11710151281523214 and test loss of: 0.1201780845442668\n",
      "Initiated Trainer for architecture = <class 'blockulib.models.TrikowyModel'>\n"
     ]
    },
    {
     "name": "stderr",
     "output_type": "stream",
     "text": [
      "Epoch: 100%|██████████| 50/50 [00:19<00:00,  2.56it/s]\n",
      "[I 2025-08-17 12:40:31,995] Trial 2 finished with value: 0.034460289221936106 and parameters: {'init_config_index': 3, 'lr': 0.005665677926508688, 'batch_size': 256}. Best is trial 2 with value: 0.034460289221936106.\n"
     ]
    },
    {
     "name": "stdout",
     "output_type": "stream",
     "text": [
      "Ended training with the best valid loss of 0.034460289221936106 and test loss of: 0.03457379775723743\n",
      "Initiated Trainer for architecture = <class 'blockulib.models.TrikowyModel'>\n"
     ]
    },
    {
     "name": "stderr",
     "output_type": "stream",
     "text": [
      "Epoch: 100%|██████████| 50/50 [00:15<00:00,  3.21it/s]\n",
      "[I 2025-08-17 12:40:47,575] Trial 3 finished with value: 0.04627404360258334 and parameters: {'init_config_index': 3, 'lr': 0.0019338727867041685, 'batch_size': 512}. Best is trial 2 with value: 0.034460289221936106.\n"
     ]
    },
    {
     "name": "stdout",
     "output_type": "stream",
     "text": [
      "Ended training with the best valid loss of 0.04627404360258334 and test loss of: 0.05394158176998194\n",
      "Initiated Trainer for architecture = <class 'blockulib.models.ConvModel'>\n"
     ]
    },
    {
     "name": "stderr",
     "output_type": "stream",
     "text": [
      "Epoch: 100%|██████████| 50/50 [00:23<00:00,  2.13it/s]\n",
      "[I 2025-08-17 12:41:11,068] Trial 4 finished with value: 0.027728268667816844 and parameters: {'init_config_index': 2, 'lr': 0.005952486066988635, 'batch_size': 128}. Best is trial 4 with value: 0.027728268667816844.\n"
     ]
    },
    {
     "name": "stdout",
     "output_type": "stream",
     "text": [
      "Ended training with the best valid loss of 0.027728268667816844 and test loss of: 0.031235785720040606\n"
     ]
    }
   ],
   "source": [
    "import optuna\n",
    "\n",
    "architecture_list = [blom.LinearModel, blom.SimpleModel, blom.ConvModel, blom.TrikowyModel]\n",
    "\n",
    "study = optuna.create_study(direction=\"minimize\", study_name = \"Grid Search for best value prediction model\")\n",
    "optimizer = ModelGridSearch(architecture_list = architecture_list)\n",
    "study.optimize(optimizer.objective, n_trials=5)"
   ]
  },
  {
   "cell_type": "code",
   "execution_count": 2,
   "id": "cf98234a-09bd-41bf-b010-228c369037d1",
   "metadata": {
    "tags": []
   },
   "outputs": [
    {
     "data": {
      "text/plain": [
       "{'train_init_config': {'architecture': blockulib.models.ConvModel,\n",
       "  'tensor_dir': 'data/tensors/'},\n",
       " 'train_config': {'num_epochs': 40,\n",
       "  'step_size': 0.001,\n",
       "  'batch_size': 512,\n",
       "  'log_every': 5},\n",
       " 'train_save_config': {'save_path': 'models/conv_model.pth'}}"
      ]
     },
     "execution_count": 2,
     "metadata": {},
     "output_type": "execute_result"
    }
   ],
   "source": [
    "config1 = Configs.train_model_config(num_epochs = 40, log_every = 5, architecture = blom.ConvModel, save_path = \"models/conv_model.pth\")\n",
    "config1"
   ]
  },
  {
   "cell_type": "code",
   "execution_count": 5,
   "id": "ab707832-92e9-458f-b296-d6a3766099a5",
   "metadata": {},
   "outputs": [
    {
     "data": {
      "text/plain": [
       "{'train_init_config': {'architecture': blockulib.models.ConvModel,\n",
       "  'tensor_dir': 'data/tensors/'},\n",
       " 'train_config': {'num_epochs': 40,\n",
       "  'step_size': 0.001,\n",
       "  'batch_size': 512,\n",
       "  'log_every': 5},\n",
       " 'train_save_config': {'save_path': 'models/simple_model.pth'}}"
      ]
     },
     "execution_count": 5,
     "metadata": {},
     "output_type": "execute_result"
    }
   ],
   "source": [
    "config2 = Configs.train_model_config(num_epochs = 40, log_every = 5, architecture = blom.SimpleModel, save_path = \"models/simple_model.pth\")\n",
    "config2"
   ]
  },
  {
   "cell_type": "code",
   "execution_count": 4,
   "id": "08a917eb-a2e4-4563-9e81-25bb6c110ce1",
   "metadata": {
    "tags": []
   },
   "outputs": [
    {
     "data": {
      "text/plain": [
       "{'train_init_config': {'architecture': blockulib.models.ConvModel,\n",
       "  'tensor_dir': 'data/tensors/'},\n",
       " 'train_config': {'num_epochs': 40,\n",
       "  'step_size': 0.001,\n",
       "  'batch_size': 512,\n",
       "  'log_every': 5},\n",
       " 'train_save_config': {'save_path': 'models/fancy_model.pth'}}"
      ]
     },
     "execution_count": 4,
     "metadata": {},
     "output_type": "execute_result"
    }
   ],
   "source": [
    "config3 = Configs.train_model_config(num_epochs = 40, log_every = 5, architecture = blom.TrikowyModel, save_path = \"models/fancy_model.pth\")\n",
    "config3"
   ]
  },
  {
   "cell_type": "code",
   "execution_count": 5,
   "id": "59b45afe-32a8-46fb-83d6-0b880a4b04a5",
   "metadata": {
    "tags": []
   },
   "outputs": [
    {
     "data": {
      "text/plain": [
       "{'train_init_config': {'architecture': blockulib.models.ConvModel,\n",
       "  'tensor_dir': 'data/tensors/'},\n",
       " 'train_config': {'num_epochs': 40,\n",
       "  'step_size': 0.001,\n",
       "  'batch_size': 512,\n",
       "  'log_every': 5},\n",
       " 'train_save_config': {'save_path': 'models/embedding_model.pth'}}"
      ]
     },
     "execution_count": 5,
     "metadata": {},
     "output_type": "execute_result"
    }
   ],
   "source": [
    "config4 = Configs.train_model_config(num_epochs = 40, log_every = 5, architecture = blom.EmbeddedConvModel, save_path = \"models/embedding_model.pth\")\n",
    "config4"
   ]
  },
  {
   "cell_type": "code",
   "execution_count": 6,
   "id": "5e9e3f5e-4ece-4e87-9e1c-c0892df4337c",
   "metadata": {
    "tags": []
   },
   "outputs": [
    {
     "name": "stdout",
     "output_type": "stream",
     "text": [
      "Shape  torch.Size([100000, 9, 9])\n",
      "Epoch [1/40], Loss: 0.4687\n",
      "Test Loss: 0.4528\n",
      "Succesfully saved model\n",
      "Epoch [5/40], Loss: 0.4268\n",
      "Test Loss: 0.4437\n",
      "Succesfully saved model\n",
      "Epoch [10/40], Loss: 0.4134\n",
      "Test Loss: 0.4436\n",
      "Succesfully saved model\n",
      "Epoch [15/40], Loss: 0.3969\n",
      "Test Loss: 0.4539\n",
      "Epoch [20/40], Loss: 0.3766\n",
      "Test Loss: 0.4692\n",
      "Epoch [25/40], Loss: 0.3348\n",
      "Test Loss: 0.5332\n",
      "Epoch [30/40], Loss: 0.2824\n",
      "Test Loss: 0.5514\n",
      "Epoch [35/40], Loss: 0.2371\n",
      "Test Loss: 0.5895\n",
      "Epoch [40/40], Loss: 0.1963\n",
      "Test Loss: 0.6512\n"
     ]
    }
   ],
   "source": [
    "train_model(**config1)"
   ]
  },
  {
   "cell_type": "code",
   "execution_count": 7,
   "id": "a85fffdd-ae25-4c1d-81ef-d255f75acdef",
   "metadata": {
    "tags": []
   },
   "outputs": [
    {
     "name": "stdout",
     "output_type": "stream",
     "text": [
      "Shape  torch.Size([2978, 9, 9])\n",
      "Epoch [1/40], Loss: 1.0271\n",
      "Test Loss: 0.9582\n",
      "Succesfully saved model\n",
      "Epoch [5/40], Loss: 0.9833\n",
      "Test Loss: 0.9690\n",
      "Epoch [10/40], Loss: 0.9609\n",
      "Test Loss: 0.9979\n",
      "Epoch [15/40], Loss: 0.9488\n",
      "Test Loss: 1.0153\n",
      "Epoch [20/40], Loss: 0.9120\n",
      "Test Loss: 1.0458\n",
      "Epoch [25/40], Loss: 0.8878\n",
      "Test Loss: 1.0552\n",
      "Epoch [30/40], Loss: 0.8454\n",
      "Test Loss: 1.0726\n",
      "Epoch [35/40], Loss: 0.8015\n",
      "Test Loss: 1.0893\n",
      "Epoch [40/40], Loss: 0.7644\n",
      "Test Loss: 1.1331\n"
     ]
    }
   ],
   "source": [
    "train_model(**config2)"
   ]
  },
  {
   "cell_type": "code",
   "execution_count": 8,
   "id": "e0e2c564-ebb2-45d5-8660-a783e6d7a8b0",
   "metadata": {
    "tags": []
   },
   "outputs": [
    {
     "name": "stdout",
     "output_type": "stream",
     "text": [
      "Shape  torch.Size([100000, 9, 9])\n",
      "Epoch [1/40], Loss: 0.4931\n",
      "Test Loss: 0.4428\n",
      "Succesfully saved model\n",
      "Epoch [5/40], Loss: 0.4327\n",
      "Test Loss: 0.4304\n",
      "Succesfully saved model\n",
      "Epoch [10/40], Loss: 0.4198\n",
      "Test Loss: 0.4321\n",
      "Epoch [15/40], Loss: 0.4073\n",
      "Test Loss: 0.4432\n",
      "Epoch [20/40], Loss: 0.3874\n",
      "Test Loss: 0.4525\n",
      "Epoch [25/40], Loss: 0.3609\n",
      "Test Loss: 0.4728\n",
      "Epoch [30/40], Loss: 0.3271\n",
      "Test Loss: 0.4920\n",
      "Epoch [35/40], Loss: 0.2875\n",
      "Test Loss: 0.5331\n",
      "Epoch [40/40], Loss: 0.2547\n",
      "Test Loss: 0.5566\n"
     ]
    }
   ],
   "source": [
    "train_model(**config3)"
   ]
  },
  {
   "cell_type": "code",
   "execution_count": 9,
   "id": "0d65ba49-2111-42e9-8894-5c01a27006b0",
   "metadata": {
    "tags": []
   },
   "outputs": [
    {
     "name": "stdout",
     "output_type": "stream",
     "text": [
      "Shape  torch.Size([100000, 9, 9])\n",
      "Epoch [1/40], Loss: 0.5172\n",
      "Test Loss: 0.4501\n",
      "Succesfully saved model\n",
      "Epoch [5/40], Loss: 0.4341\n",
      "Test Loss: 0.4354\n",
      "Succesfully saved model\n",
      "Epoch [10/40], Loss: 0.4200\n",
      "Test Loss: 0.4301\n",
      "Succesfully saved model\n",
      "Epoch [15/40], Loss: 0.4071\n",
      "Test Loss: 0.4430\n",
      "Epoch [20/40], Loss: 0.3879\n",
      "Test Loss: 0.4516\n",
      "Epoch [25/40], Loss: 0.3626\n",
      "Test Loss: 0.4725\n",
      "Epoch [30/40], Loss: 0.3295\n",
      "Test Loss: 0.4902\n",
      "Epoch [35/40], Loss: 0.2869\n",
      "Test Loss: 0.5319\n",
      "Epoch [40/40], Loss: 0.2479\n",
      "Test Loss: 0.5663\n"
     ]
    }
   ],
   "source": [
    "train_model(**config4)"
   ]
  }
 ],
 "metadata": {
  "kernelspec": {
   "display_name": "Python 3 (ipykernel)",
   "language": "python",
   "name": "python3"
  },
  "language_info": {
   "codemirror_mode": {
    "name": "ipython",
    "version": 3
   },
   "file_extension": ".py",
   "mimetype": "text/x-python",
   "name": "python",
   "nbconvert_exporter": "python",
   "pygments_lexer": "ipython3",
   "version": "3.11.7"
  }
 },
 "nbformat": 4,
 "nbformat_minor": 5
}
