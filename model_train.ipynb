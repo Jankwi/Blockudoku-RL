{
 "cells": [
  {
   "cell_type": "code",
   "execution_count": 1,
   "id": "137c2e8e-508a-4d6d-baff-bff0762455f7",
   "metadata": {
    "tags": []
   },
   "outputs": [],
   "source": [
    "from blockulib.pipelines import Configs\n",
    "from blockulib.training import train_model\n",
    "import blockulib.models as blom"
   ]
  },
  {
   "cell_type": "code",
   "execution_count": 2,
   "id": "cf98234a-09bd-41bf-b010-228c369037d1",
   "metadata": {
    "tags": []
   },
   "outputs": [
    {
     "data": {
      "text/plain": [
       "{'train_init_config': {'architecture': blockulib.models.ConvModel,\n",
       "  'tensor_dir': 'data/tensors/'},\n",
       " 'train_config': {'num_epochs': 40,\n",
       "  'step_size': 0.001,\n",
       "  'batch_size': 512,\n",
       "  'log_every': 5},\n",
       " 'train_save_config': {'save_path': 'models/conv_model.pth'}}"
      ]
     },
     "execution_count": 2,
     "metadata": {},
     "output_type": "execute_result"
    }
   ],
   "source": [
    "config1 = Configs.train_model_config(num_epochs = 40, log_every = 5, architecture = blom.ConvModel, save_path = \"models/conv_model.pth\")\n",
    "config1"
   ]
  },
  {
   "cell_type": "code",
   "execution_count": 3,
   "id": "ab707832-92e9-458f-b296-d6a3766099a5",
   "metadata": {},
   "outputs": [
    {
     "data": {
      "text/plain": [
       "{'train_init_config': {'architecture': blockulib.models.ConvModel,\n",
       "  'tensor_dir': 'data/tensors/'},\n",
       " 'train_config': {'num_epochs': 40,\n",
       "  'step_size': 0.001,\n",
       "  'batch_size': 512,\n",
       "  'log_every': 5},\n",
       " 'train_save_config': {'save_path': 'models/simple_model.pth'}}"
      ]
     },
     "execution_count": 3,
     "metadata": {},
     "output_type": "execute_result"
    }
   ],
   "source": [
    "config2 = Configs.train_model_config(num_epochs = 40, log_every = 5, architecture = blom.SimpleModel, save_path = \"models/simple_model.pth\")\n",
    "config2"
   ]
  },
  {
   "cell_type": "code",
   "execution_count": 4,
   "id": "08a917eb-a2e4-4563-9e81-25bb6c110ce1",
   "metadata": {
    "tags": []
   },
   "outputs": [
    {
     "data": {
      "text/plain": [
       "{'train_init_config': {'architecture': blockulib.models.ConvModel,\n",
       "  'tensor_dir': 'data/tensors/'},\n",
       " 'train_config': {'num_epochs': 40,\n",
       "  'step_size': 0.001,\n",
       "  'batch_size': 512,\n",
       "  'log_every': 5},\n",
       " 'train_save_config': {'save_path': 'models/fancy_model.pth'}}"
      ]
     },
     "execution_count": 4,
     "metadata": {},
     "output_type": "execute_result"
    }
   ],
   "source": [
    "config3 = Configs.train_model_config(num_epochs = 40, log_every = 5, architecture = blom.TrikowyModel, save_path = \"models/fancy_model.pth\")\n",
    "config3"
   ]
  },
  {
   "cell_type": "code",
   "execution_count": 5,
   "id": "59b45afe-32a8-46fb-83d6-0b880a4b04a5",
   "metadata": {
    "tags": []
   },
   "outputs": [
    {
     "data": {
      "text/plain": [
       "{'train_init_config': {'architecture': blockulib.models.ConvModel,\n",
       "  'tensor_dir': 'data/tensors/'},\n",
       " 'train_config': {'num_epochs': 40,\n",
       "  'step_size': 0.001,\n",
       "  'batch_size': 512,\n",
       "  'log_every': 5},\n",
       " 'train_save_config': {'save_path': 'models/embedding_model.pth'}}"
      ]
     },
     "execution_count": 5,
     "metadata": {},
     "output_type": "execute_result"
    }
   ],
   "source": [
    "config4 = Configs.train_model_config(num_epochs = 40, log_every = 5, architecture = blom.EmbeddedConvModel, save_path = \"models/embedding_model.pth\")\n",
    "config4"
   ]
  },
  {
   "cell_type": "code",
   "execution_count": 6,
   "id": "5e9e3f5e-4ece-4e87-9e1c-c0892df4337c",
   "metadata": {
    "tags": []
   },
   "outputs": [
    {
     "name": "stdout",
     "output_type": "stream",
     "text": [
      "Shape  torch.Size([100000, 9, 9])\n",
      "Epoch [1/40], Loss: 0.4687\n",
      "Test Loss: 0.4528\n",
      "Succesfully saved model\n",
      "Epoch [5/40], Loss: 0.4268\n",
      "Test Loss: 0.4437\n",
      "Succesfully saved model\n",
      "Epoch [10/40], Loss: 0.4134\n",
      "Test Loss: 0.4436\n",
      "Succesfully saved model\n",
      "Epoch [15/40], Loss: 0.3969\n",
      "Test Loss: 0.4539\n",
      "Epoch [20/40], Loss: 0.3766\n",
      "Test Loss: 0.4692\n",
      "Epoch [25/40], Loss: 0.3348\n",
      "Test Loss: 0.5332\n",
      "Epoch [30/40], Loss: 0.2824\n",
      "Test Loss: 0.5514\n",
      "Epoch [35/40], Loss: 0.2371\n",
      "Test Loss: 0.5895\n",
      "Epoch [40/40], Loss: 0.1963\n",
      "Test Loss: 0.6512\n"
     ]
    }
   ],
   "source": [
    "train_model(**config1)"
   ]
  },
  {
   "cell_type": "code",
   "execution_count": 7,
   "id": "a85fffdd-ae25-4c1d-81ef-d255f75acdef",
   "metadata": {
    "tags": []
   },
   "outputs": [
    {
     "name": "stdout",
     "output_type": "stream",
     "text": [
      "Shape  torch.Size([100000, 9, 9])\n",
      "Epoch [1/40], Loss: 0.4763\n",
      "Test Loss: 0.4622\n",
      "Succesfully saved model\n",
      "Epoch [5/40], Loss: 0.4284\n",
      "Test Loss: 0.4331\n",
      "Succesfully saved model\n",
      "Epoch [10/40], Loss: 0.4164\n",
      "Test Loss: 0.4343\n",
      "Epoch [15/40], Loss: 0.4002\n",
      "Test Loss: 0.4451\n",
      "Epoch [20/40], Loss: 0.3774\n",
      "Test Loss: 0.4578\n",
      "Epoch [25/40], Loss: 0.3407\n",
      "Test Loss: 0.4813\n",
      "Epoch [30/40], Loss: 0.2912\n",
      "Test Loss: 0.5533\n",
      "Epoch [35/40], Loss: 0.2421\n",
      "Test Loss: 0.5582\n",
      "Epoch [40/40], Loss: 0.2033\n",
      "Test Loss: 0.6024\n"
     ]
    }
   ],
   "source": [
    "train_model(**config2)"
   ]
  },
  {
   "cell_type": "code",
   "execution_count": 8,
   "id": "e0e2c564-ebb2-45d5-8660-a783e6d7a8b0",
   "metadata": {
    "tags": []
   },
   "outputs": [
    {
     "name": "stdout",
     "output_type": "stream",
     "text": [
      "Shape  torch.Size([100000, 9, 9])\n",
      "Epoch [1/40], Loss: 0.4931\n",
      "Test Loss: 0.4428\n",
      "Succesfully saved model\n",
      "Epoch [5/40], Loss: 0.4327\n",
      "Test Loss: 0.4304\n",
      "Succesfully saved model\n",
      "Epoch [10/40], Loss: 0.4198\n",
      "Test Loss: 0.4321\n",
      "Epoch [15/40], Loss: 0.4073\n",
      "Test Loss: 0.4432\n",
      "Epoch [20/40], Loss: 0.3874\n",
      "Test Loss: 0.4525\n",
      "Epoch [25/40], Loss: 0.3609\n",
      "Test Loss: 0.4728\n",
      "Epoch [30/40], Loss: 0.3271\n",
      "Test Loss: 0.4920\n",
      "Epoch [35/40], Loss: 0.2875\n",
      "Test Loss: 0.5331\n",
      "Epoch [40/40], Loss: 0.2547\n",
      "Test Loss: 0.5566\n"
     ]
    }
   ],
   "source": [
    "train_model(**config3)"
   ]
  },
  {
   "cell_type": "code",
   "execution_count": 9,
   "id": "0d65ba49-2111-42e9-8894-5c01a27006b0",
   "metadata": {
    "tags": []
   },
   "outputs": [
    {
     "name": "stdout",
     "output_type": "stream",
     "text": [
      "Shape  torch.Size([100000, 9, 9])\n",
      "Epoch [1/40], Loss: 0.5172\n",
      "Test Loss: 0.4501\n",
      "Succesfully saved model\n",
      "Epoch [5/40], Loss: 0.4341\n",
      "Test Loss: 0.4354\n",
      "Succesfully saved model\n",
      "Epoch [10/40], Loss: 0.4200\n",
      "Test Loss: 0.4301\n",
      "Succesfully saved model\n",
      "Epoch [15/40], Loss: 0.4071\n",
      "Test Loss: 0.4430\n",
      "Epoch [20/40], Loss: 0.3879\n",
      "Test Loss: 0.4516\n",
      "Epoch [25/40], Loss: 0.3626\n",
      "Test Loss: 0.4725\n",
      "Epoch [30/40], Loss: 0.3295\n",
      "Test Loss: 0.4902\n",
      "Epoch [35/40], Loss: 0.2869\n",
      "Test Loss: 0.5319\n",
      "Epoch [40/40], Loss: 0.2479\n",
      "Test Loss: 0.5663\n"
     ]
    }
   ],
   "source": [
    "train_model(**config4)"
   ]
  }
 ],
 "metadata": {
  "kernelspec": {
   "display_name": "Python 3 (ipykernel)",
   "language": "python",
   "name": "python3"
  },
  "language_info": {
   "codemirror_mode": {
    "name": "ipython",
    "version": 3
   },
   "file_extension": ".py",
   "mimetype": "text/x-python",
   "name": "python",
   "nbconvert_exporter": "python",
   "pygments_lexer": "ipython3",
   "version": "3.11.7"
  }
 },
 "nbformat": 4,
 "nbformat_minor": 5
}
