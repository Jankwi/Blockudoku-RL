{
 "cells": [
  {
   "cell_type": "code",
   "execution_count": 2,
   "id": "137c2e8e-508a-4d6d-baff-bff0762455f7",
   "metadata": {
    "tags": []
   },
   "outputs": [],
   "source": [
    "from blockulib.training import Trainer\n",
    "import blockulib.models as blom"
   ]
  },
  {
   "cell_type": "code",
   "execution_count": 4,
   "id": "67423a59-f011-4a11-9f40-1d5a55a146e3",
   "metadata": {
    "tags": []
   },
   "outputs": [],
   "source": [
    "train = Trainer(architecture = blom.BoardEmbeddingModel)"
   ]
  },
  {
   "cell_type": "code",
   "execution_count": 6,
   "id": "b326e74a-5aa6-4f59-917c-945086c5c8ac",
   "metadata": {
    "tags": []
   },
   "outputs": [
    {
     "name": "stdout",
     "output_type": "stream",
     "text": [
      "Epoch [1/60], Loss: 0.8472\n",
      "Test Loss: 0.7593\n",
      "Epoch [10/60], Loss: 0.4318\n",
      "Test Loss: 0.4906\n",
      "Epoch [20/60], Loss: 0.1652\n",
      "Test Loss: 0.3352\n",
      "Epoch [30/60], Loss: 0.1080\n",
      "Test Loss: 0.3212\n",
      "Epoch [40/60], Loss: 0.0847\n",
      "Test Loss: 0.3228\n",
      "Epoch [50/60], Loss: 0.0715\n",
      "Test Loss: 0.3248\n",
      "Epoch [60/60], Loss: 0.0635\n",
      "Test Loss: 0.3303\n"
     ]
    }
   ],
   "source": [
    "train(num_epochs = 60, log_every = 10, batch_size = 1024, step_size = 1e-3)\n",
    "train.save()"
   ]
  },
  {
   "cell_type": "code",
   "execution_count": 6,
   "id": "cf98234a-09bd-41bf-b010-228c369037d1",
   "metadata": {
    "tags": []
   },
   "outputs": [
    {
     "name": "stdout",
     "output_type": "stream",
     "text": [
      "Epoch [1/60], Loss: 0.1096\n",
      "Test Loss: 0.2891\n",
      "Epoch [10/60], Loss: 0.0655\n",
      "Test Loss: 0.2926\n",
      "Epoch [20/60], Loss: 0.0594\n",
      "Test Loss: 0.2955\n",
      "Epoch [30/60], Loss: 0.0533\n",
      "Test Loss: 0.2901\n",
      "Epoch [40/60], Loss: 0.0492\n",
      "Test Loss: 0.2879\n",
      "Epoch [50/60], Loss: 0.0467\n",
      "Test Loss: 0.2914\n",
      "Epoch [60/60], Loss: 0.0458\n",
      "Test Loss: 0.2927\n"
     ]
    }
   ],
   "source": [
    "train(num_epochs = 60, log_every = 10, batch_size = 1024, step_size = 1e-3)"
   ]
  },
  {
   "cell_type": "code",
   "execution_count": null,
   "id": "ab707832-92e9-458f-b296-d6a3766099a5",
   "metadata": {},
   "outputs": [],
   "source": []
  }
 ],
 "metadata": {
  "kernelspec": {
   "display_name": "Python 3 (ipykernel)",
   "language": "python",
   "name": "python3"
  },
  "language_info": {
   "codemirror_mode": {
    "name": "ipython",
    "version": 3
   },
   "file_extension": ".py",
   "mimetype": "text/x-python",
   "name": "python",
   "nbconvert_exporter": "python",
   "pygments_lexer": "ipython3",
   "version": "3.11.7"
  }
 },
 "nbformat": 4,
 "nbformat_minor": 5
}
