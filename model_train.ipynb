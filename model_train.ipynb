{
 "cells": [
  {
   "cell_type": "code",
   "execution_count": 1,
   "id": "137c2e8e-508a-4d6d-baff-bff0762455f7",
   "metadata": {
    "tags": []
   },
   "outputs": [],
   "source": [
    "from blockulib.pipelines import Configs\n",
    "from blockulib.training import train_model\n",
    "import blockulib.models as blom"
   ]
  },
  {
   "cell_type": "code",
   "execution_count": 2,
   "id": "cf98234a-09bd-41bf-b010-228c369037d1",
   "metadata": {
    "tags": []
   },
   "outputs": [
    {
     "data": {
      "text/plain": [
       "{'train_init_config': {'architecture': blockulib.models.ConvModel,\n",
       "  'tensor_dir': 'data/tensors/'},\n",
       " 'train_config': {'num_epochs': 100,\n",
       "  'step_size': 0.001,\n",
       "  'batch_size': 512,\n",
       "  'log_every': 25},\n",
       " 'train_save_config': {'save_path': 'models/conv_model.pth'}}"
      ]
     },
     "execution_count": 2,
     "metadata": {},
     "output_type": "execute_result"
    }
   ],
   "source": [
    "config1 = Configs.train_model_config(num_epochs = 100, log_every = 25, architecture = blom.ConvModel, save_path = \"models/conv_model.pth\")\n",
    "config1"
   ]
  },
  {
   "cell_type": "code",
   "execution_count": 3,
   "id": "ab707832-92e9-458f-b296-d6a3766099a5",
   "metadata": {},
   "outputs": [
    {
     "data": {
      "text/plain": [
       "{'train_init_config': {'architecture': blockulib.models.ConvModel,\n",
       "  'tensor_dir': 'data/tensors/'},\n",
       " 'train_config': {'num_epochs': 100,\n",
       "  'step_size': 0.001,\n",
       "  'batch_size': 512,\n",
       "  'log_every': 25},\n",
       " 'train_save_config': {'save_path': 'models/simple_model.pth'}}"
      ]
     },
     "execution_count": 3,
     "metadata": {},
     "output_type": "execute_result"
    }
   ],
   "source": [
    "config2 = Configs.train_model_config(num_epochs = 100, log_every = 25, architecture = blom.SimpleModel, save_path = \"models/simple_model.pth\")\n",
    "config2"
   ]
  },
  {
   "cell_type": "code",
   "execution_count": 4,
   "id": "08a917eb-a2e4-4563-9e81-25bb6c110ce1",
   "metadata": {
    "tags": []
   },
   "outputs": [
    {
     "data": {
      "text/plain": [
       "{'train_init_config': {'architecture': blockulib.models.ConvModel,\n",
       "  'tensor_dir': 'data/tensors/'},\n",
       " 'train_config': {'num_epochs': 100,\n",
       "  'step_size': 0.001,\n",
       "  'batch_size': 512,\n",
       "  'log_every': 25},\n",
       " 'train_save_config': {'save_path': 'models/fancy_model.pth'}}"
      ]
     },
     "execution_count": 4,
     "metadata": {},
     "output_type": "execute_result"
    }
   ],
   "source": [
    "config3 = Configs.train_model_config(num_epochs = 100, log_every = 25, architecture = blom.TrikowyModel, save_path = \"models/fancy_model.pth\")\n",
    "config3"
   ]
  },
  {
   "cell_type": "code",
   "execution_count": 5,
   "id": "59b45afe-32a8-46fb-83d6-0b880a4b04a5",
   "metadata": {
    "tags": []
   },
   "outputs": [
    {
     "data": {
      "text/plain": [
       "{'train_init_config': {'architecture': blockulib.models.ConvModel,\n",
       "  'tensor_dir': 'data/tensors/'},\n",
       " 'train_config': {'num_epochs': 100,\n",
       "  'step_size': 0.001,\n",
       "  'batch_size': 512,\n",
       "  'log_every': 25},\n",
       " 'train_save_config': {'save_path': 'models/embedding_model.pth'}}"
      ]
     },
     "execution_count": 5,
     "metadata": {},
     "output_type": "execute_result"
    }
   ],
   "source": [
    "config4 = Configs.train_model_config(num_epochs = 100, log_every = 25, architecture = blom.EmbeddedConvModel, save_path = \"models/embedding_model.pth\")\n",
    "config4"
   ]
  },
  {
   "cell_type": "code",
   "execution_count": 6,
   "id": "5e9e3f5e-4ece-4e87-9e1c-c0892df4337c",
   "metadata": {
    "tags": []
   },
   "outputs": [
    {
     "name": "stdout",
     "output_type": "stream",
     "text": [
      "Shape  torch.Size([40000, 9, 9])\n",
      "Epoch [1/100], Loss: 0.5896\n",
      "Test Loss: 0.5570\n",
      "Epoch [25/100], Loss: 0.4069\n",
      "Test Loss: 0.5578\n",
      "Epoch [50/100], Loss: 0.2227\n",
      "Test Loss: 0.7050\n",
      "Epoch [75/100], Loss: 0.1203\n",
      "Test Loss: 0.8245\n",
      "Epoch [100/100], Loss: 0.0742\n",
      "Test Loss: 0.9096\n"
     ]
    }
   ],
   "source": [
    "train_model(**config1)"
   ]
  },
  {
   "cell_type": "code",
   "execution_count": 7,
   "id": "a85fffdd-ae25-4c1d-81ef-d255f75acdef",
   "metadata": {
    "tags": []
   },
   "outputs": [
    {
     "name": "stdout",
     "output_type": "stream",
     "text": [
      "Shape  torch.Size([40000, 9, 9])\n",
      "Epoch [1/100], Loss: 0.5915\n",
      "Test Loss: 0.5260\n",
      "Epoch [25/100], Loss: 0.3634\n",
      "Test Loss: 0.5752\n",
      "Epoch [50/100], Loss: 0.1468\n",
      "Test Loss: 0.7486\n",
      "Epoch [75/100], Loss: 0.0708\n",
      "Test Loss: 0.8454\n",
      "Epoch [100/100], Loss: 0.0531\n",
      "Test Loss: 0.9074\n"
     ]
    }
   ],
   "source": [
    "train_model(**config2)"
   ]
  },
  {
   "cell_type": "code",
   "execution_count": 8,
   "id": "e0e2c564-ebb2-45d5-8660-a783e6d7a8b0",
   "metadata": {
    "tags": []
   },
   "outputs": [
    {
     "name": "stdout",
     "output_type": "stream",
     "text": [
      "Shape  torch.Size([40000, 9, 9])\n",
      "Epoch [1/100], Loss: 0.5608\n",
      "Test Loss: 0.5232\n",
      "Epoch [25/100], Loss: 0.3715\n",
      "Test Loss: 0.5874\n",
      "Epoch [50/100], Loss: 0.1574\n",
      "Test Loss: 0.7559\n",
      "Epoch [75/100], Loss: 0.0786\n",
      "Test Loss: 0.8560\n",
      "Epoch [100/100], Loss: 0.0538\n",
      "Test Loss: 0.8915\n"
     ]
    }
   ],
   "source": [
    "train_model(**config3)"
   ]
  },
  {
   "cell_type": "code",
   "execution_count": 9,
   "id": "0d65ba49-2111-42e9-8894-5c01a27006b0",
   "metadata": {
    "tags": []
   },
   "outputs": [
    {
     "name": "stdout",
     "output_type": "stream",
     "text": [
      "Shape  torch.Size([40000, 9, 9])\n",
      "Epoch [1/100], Loss: 0.5855\n",
      "Test Loss: 0.5467\n",
      "Epoch [25/100], Loss: 0.3985\n",
      "Test Loss: 0.5763\n",
      "Epoch [50/100], Loss: 0.1893\n",
      "Test Loss: 0.7586\n",
      "Epoch [75/100], Loss: 0.1019\n",
      "Test Loss: 0.8537\n",
      "Epoch [100/100], Loss: 0.0672\n",
      "Test Loss: 0.9235\n"
     ]
    }
   ],
   "source": [
    "train_model(**config4)"
   ]
  }
 ],
 "metadata": {
  "kernelspec": {
   "display_name": "Python 3 (ipykernel)",
   "language": "python",
   "name": "python3"
  },
  "language_info": {
   "codemirror_mode": {
    "name": "ipython",
    "version": 3
   },
   "file_extension": ".py",
   "mimetype": "text/x-python",
   "name": "python",
   "nbconvert_exporter": "python",
   "pygments_lexer": "ipython3",
   "version": "3.11.7"
  }
 },
 "nbformat": 4,
 "nbformat_minor": 5
}
