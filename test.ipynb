{
 "cells": [
  {
   "cell_type": "code",
   "execution_count": 2,
   "id": "bb325945-e72b-401b-9d0f-ca88fd96b3ff",
   "metadata": {
    "tags": []
   },
   "outputs": [],
   "source": [
    "from blockulib.playing import play_games, ModelBasedLoop"
   ]
  },
  {
   "cell_type": "code",
   "execution_count": 3,
   "id": "8377c820-d754-4a0f-b97a-74b15a0898a4",
   "metadata": {
    "tags": []
   },
   "outputs": [],
   "source": [
    "simple_config = {\n",
    "    'num_games' : 1000,\n",
    "    'games_at_once' : 500,\n",
    "    'playing_loop' : ModelBasedLoop,\n",
    "    'save' : False,\n",
    "    'playing_config': {\n",
    "        'temperature' : 0.7,\n",
    "        'top_k' : 3,\n",
    "        'pred_config' : {\n",
    "            'batch_size' : 4096\n",
    "        }\n",
    "    }\n",
    "}"
   ]
  },
  {
   "cell_type": "code",
   "execution_count": 4,
   "id": "51934603-e785-4340-8a5e-9d789d5bb706",
   "metadata": {
    "tags": []
   },
   "outputs": [
    {
     "name": "stderr",
     "output_type": "stream",
     "text": [
      "Playing games: 100%|██████████| 2/2 [00:02<00:00,  1.32s/it]"
     ]
    },
    {
     "name": "stdout",
     "output_type": "stream",
     "text": [
      "Mean MPG : 16.951\n"
     ]
    },
    {
     "name": "stderr",
     "output_type": "stream",
     "text": [
      "\n"
     ]
    }
   ],
   "source": [
    "play_games(**simple_config)"
   ]
  },
  {
   "cell_type": "code",
   "execution_count": 2,
   "id": "e95dba0f-bc5a-488a-b64b-09d4c48af77c",
   "metadata": {
    "tags": []
   },
   "outputs": [],
   "source": [
    "from blockulib.playing import play_games, ModelBasedLoop\n",
    "from blockulib.playing import DeepSearch\n",
    "import blockulib.models as blom"
   ]
  },
  {
   "cell_type": "code",
   "execution_count": 3,
   "id": "c1751131-ee44-4a61-974f-f202a90780ee",
   "metadata": {
    "tags": []
   },
   "outputs": [],
   "source": [
    "deep_config = {\n",
    "    'num_games' : 30,\n",
    "    'games_at_once' : 25,\n",
    "    'playing_loop' : DeepSearch,\n",
    "    'loop_init_config' : {\n",
    "        'probe_config' : {\n",
    "            'model_path' : \"models/conv_model.pth\",\n",
    "            'architecture' : blom.ConvModel\n",
    "        }\n",
    "    },\n",
    "    'save' : True,\n",
    "    'playing_config': {\n",
    "        'temperature' : 0.7,\n",
    "        'top_k' : 3,\n",
    "        'pred_config' : {\n",
    "            'batch_size' : 4096\n",
    "        },\n",
    "        'rethink_config' : {\n",
    "            'rethink_batch' : 500,\n",
    "            'probes_per_pos' : 10,\n",
    "            'depth' : 5,\n",
    "            'probe_config' : {\n",
    "                'batch_size' : 4096,\n",
    "                'temperature' : 0.7,\n",
    "                'top_k' : 3\n",
    "            }\n",
    "        }\n",
    "    }\n",
    "}"
   ]
  },
  {
   "cell_type": "code",
   "execution_count": 4,
   "id": "5103f008-e068-4317-aee1-18e847d0bd47",
   "metadata": {
    "tags": []
   },
   "outputs": [
    {
     "name": "stderr",
     "output_type": "stream",
     "text": [
      "Playing games: 100%|██████████| 2/2 [00:10<00:00,  5.22s/it]"
     ]
    },
    {
     "name": "stdout",
     "output_type": "stream",
     "text": [
      "Mean MPG : 19.466666666666665\n"
     ]
    },
    {
     "name": "stderr",
     "output_type": "stream",
     "text": [
      "\n"
     ]
    }
   ],
   "source": [
    "play_games(**deep_config)"
   ]
  },
  {
   "cell_type": "code",
   "execution_count": 2,
   "id": "47415bf2-06f0-441e-bef7-f7effffd1535",
   "metadata": {
    "tags": []
   },
   "outputs": [],
   "source": [
    "from blockulib.data import RandomBoards"
   ]
  },
  {
   "cell_type": "code",
   "execution_count": 17,
   "id": "76aae5e9-9db0-4edc-8a24-10cad6b07db2",
   "metadata": {
    "tags": []
   },
   "outputs": [],
   "source": [
    "dorg_config = {\n",
    "    'choose_config' : {\n",
    "    'multiplier' : 3.,\n",
    "    'cap' : 60\n",
    "    }\n",
    "}"
   ]
  },
  {
   "cell_type": "code",
   "execution_count": 19,
   "id": "fd16a448-c35a-4619-8c31-941f0d3bdc65",
   "metadata": {
    "tags": []
   },
   "outputs": [],
   "source": [
    "dorg = RandomBoards()"
   ]
  },
  {
   "cell_type": "code",
   "execution_count": 21,
   "id": "d18c48e3-985a-4a9e-a962-5b7e4a600232",
   "metadata": {
    "tags": []
   },
   "outputs": [
    {
     "name": "stdout",
     "output_type": "stream",
     "text": [
      "Chosen x.shape = torch.Size([60, 9, 9]) and y.shape = torch.Size([60])\n",
      "torch.Size([60])\n"
     ]
    }
   ],
   "source": [
    "dorg(**dorg_config)"
   ]
  },
  {
   "cell_type": "code",
   "execution_count": null,
   "id": "e37e12bd-c698-4766-b16e-abb8c3732de3",
   "metadata": {},
   "outputs": [],
   "source": []
  }
 ],
 "metadata": {
  "kernelspec": {
   "display_name": "Python 3 (ipykernel)",
   "language": "python",
   "name": "python3"
  },
  "language_info": {
   "codemirror_mode": {
    "name": "ipython",
    "version": 3
   },
   "file_extension": ".py",
   "mimetype": "text/x-python",
   "name": "python",
   "nbconvert_exporter": "python",
   "pygments_lexer": "ipython3",
   "version": "3.11.7"
  }
 },
 "nbformat": 4,
 "nbformat_minor": 5
}
