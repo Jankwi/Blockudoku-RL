{
 "cells": [
  {
   "cell_type": "code",
   "execution_count": 3,
   "id": "b6c3f3cd-e0fd-44d2-9258-652ede507158",
   "metadata": {
    "tags": []
   },
   "outputs": [
    {
     "data": {
      "text/plain": [
       "'import blockulib.models as blom\\nimport torch\\n\\nmodel = blom.ConvModel()\\ninput_tensor = torch.randn(1, 1, 9, 9)\\noutput = model(input_tensor)\\nprint(\"New model sample output: \", output)\\n\\nPATH = \"models/conv_model.pth\"\\ntorch.save(model.state_dict(), PATH) '"
      ]
     },
     "execution_count": 3,
     "metadata": {},
     "output_type": "execute_result"
    }
   ],
   "source": [
    "\"\"\"import blockulib.models as blom\n",
    "import torch\n",
    "\n",
    "model = blom.ConvModel()\n",
    "input_tensor = torch.randn(1, 1, 9, 9)\n",
    "output = model(input_tensor)\n",
    "print(\"New model sample output: \", output)\n",
    "\n",
    "PATH = \"models/conv_model.pth\"\n",
    "torch.save(model.state_dict(), PATH) \"\"\""
   ]
  },
  {
   "cell_type": "code",
   "execution_count": 4,
   "id": "633359d5-5797-4e95-89bf-b1a7aedb702b",
   "metadata": {},
   "outputs": [],
   "source": [
    "import blockulib\n",
    "import blockulib.models as blom\n",
    "import torch\n",
    "\n",
    "class PlayingLoop():\n",
    "    \n",
    "    def __init__(self, model_path = \"models/conv_model.pth\", architecture = blom.ConvModel):\n",
    "        self.model = architecture()\n",
    "        state_dict = torch.load(model_path)\n",
    "        self.model.load_state_dict(state_dict)\n",
    "        self.generator = blockulib.BlockGenerator()\n",
    "        \n",
    "    def __call__(self, num_games = 1, batch_size = 128):\n",
    "        pos_list = [[torch.zeros(9, 9)] for i in range(num_games)]\n",
    "        state = [True for i in range(num_games)]\n",
    "        active_games = num_games\n",
    "        move = 0\n",
    "        \n",
    "        while (active_games > 0):\n",
    "            move += 1\n",
    "            if (move == 1 or move%5 == 0):\n",
    "                print(\"Entering move phase: \", move)\n",
    "            new_index = []\n",
    "            for i in range(num_games):\n",
    "                if state[i]:\n",
    "                    new_index.append(i)\n",
    "            boards = [pos_list[new_index[i]][-1].clone() for i in range(active_games)]\n",
    "            pos, ind = blockulib.possible_moves(boards, self.generator)\n",
    "            \n",
    "            state = [False for i in range(num_games)]\n",
    "            active_games = 0\n",
    "            if (move == 1 or move%5 == 0):\n",
    "                print(\"Possible moves count: \", ind.shape[0])\n",
    "            for i in range(ind.shape[0]):\n",
    "                index = new_index[int(ind[i].item())]\n",
    "                if (not state[index]):\n",
    "                    state[index] = True\n",
    "                    pos_list[index].append(pos[i])\n",
    "                    active_games +=1\n",
    "        \n",
    "        print(\"ended after \", move, \" moves\")            \n",
    "        return pos_list"
   ]
  },
  {
   "cell_type": "code",
   "execution_count": 5,
   "id": "51934603-e785-4340-8a5e-9d789d5bb706",
   "metadata": {
    "tags": []
   },
   "outputs": [],
   "source": [
    "play = PlayingLoop()"
   ]
  },
  {
   "cell_type": "code",
   "execution_count": 6,
   "id": "0b6a90cc-53b5-4640-832f-63dd488c59b9",
   "metadata": {
    "tags": []
   },
   "outputs": [
    {
     "name": "stdout",
     "output_type": "stream",
     "text": [
      "Entering move phase:  1\n",
      "Possible moves count:  59299\n",
      "Entering move phase:  5\n",
      "Possible moves count:  43482\n",
      "Entering move phase:  10\n",
      "Possible moves count:  29734\n",
      "Entering move phase:  15\n",
      "Possible moves count:  18821\n",
      "Entering move phase:  20\n",
      "Possible moves count:  11000\n",
      "Entering move phase:  25\n",
      "Possible moves count:  5368\n",
      "Entering move phase:  30\n",
      "Possible moves count:  2807\n",
      "Entering move phase:  35\n",
      "Possible moves count:  1499\n",
      "Entering move phase:  40\n",
      "Possible moves count:  512\n",
      "Entering move phase:  45\n",
      "Possible moves count:  384\n",
      "Entering move phase:  50\n",
      "Possible moves count:  180\n",
      "Entering move phase:  55\n",
      "Possible moves count:  102\n",
      "Entering move phase:  60\n",
      "Possible moves count:  15\n",
      "Entering move phase:  65\n",
      "Possible moves count:  6\n",
      "Entering move phase:  70\n",
      "Possible moves count:  9\n",
      "Entering move phase:  75\n",
      "Possible moves count:  11\n",
      "Entering move phase:  80\n",
      "Possible moves count:  6\n",
      "Entering move phase:  85\n",
      "Possible moves count:  9\n",
      "Entering move phase:  90\n",
      "Possible moves count:  14\n",
      "Entering move phase:  95\n",
      "Possible moves count:  45\n",
      "Entering move phase:  100\n",
      "Possible moves count:  3\n",
      "Entering move phase:  105\n",
      "Possible moves count:  0\n",
      "ended after  105  moves\n",
      "Elapsed time: 2.025575 seconds\n"
     ]
    }
   ],
   "source": [
    "import time\n",
    "start_time = time.time()\n",
    "\n",
    "wynik = play(num_games = 10)\n",
    "\n",
    "end_time = time.time()\n",
    "elapsed_time = end_time - start_time\n",
    "print(f\"Elapsed time: {elapsed_time:.6f} seconds\")"
   ]
  },
  {
   "cell_type": "code",
   "execution_count": 7,
   "id": "bf96a9dc-11bb-406b-aede-7cb4ae9781d8",
   "metadata": {
    "tags": []
   },
   "outputs": [
    {
     "name": "stdout",
     "output_type": "stream",
     "text": [
      "1000\n"
     ]
    }
   ],
   "source": [
    "print(len(wynik))"
   ]
  },
  {
   "cell_type": "code",
   "execution_count": 8,
   "id": "a9acc240-008b-492a-9cc7-4b2c493e714f",
   "metadata": {
    "tags": []
   },
   "outputs": [
    {
     "name": "stdout",
     "output_type": "stream",
     "text": [
      "26492 cases int toal\n"
     ]
    }
   ],
   "source": [
    "cases = 0\n",
    "for i in range(1000):\n",
    "    cases += len(wynik[i])\n",
    "print(cases, \"cases int total\")"
   ]
  }
 ],
 "metadata": {
  "kernelspec": {
   "display_name": "Python 3 (ipykernel)",
   "language": "python",
   "name": "python3"
  },
  "language_info": {
   "codemirror_mode": {
    "name": "ipython",
    "version": 3
   },
   "file_extension": ".py",
   "mimetype": "text/x-python",
   "name": "python",
   "nbconvert_exporter": "python",
   "pygments_lexer": "ipython3",
   "version": "3.11.7"
  }
 },
 "nbformat": 4,
 "nbformat_minor": 5
}
