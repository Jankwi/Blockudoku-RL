{
 "cells": [
  {
   "cell_type": "code",
   "execution_count": 2,
   "id": "b6c3f3cd-e0fd-44d2-9258-652ede507158",
   "metadata": {
    "tags": []
   },
   "outputs": [
    {
     "data": {
      "text/plain": [
       "'import blockulib.models as blom\\nimport torch\\n\\nmodel = blom.ConvModel()\\ninput_tensor = torch.randn(1, 1, 9, 9)\\noutput = model(input_tensor)\\nprint(\"New model sample output: \", output)\\n\\nPATH = \"models/conv_model.pth\"\\ntorch.save(model.state_dict(), PATH) '"
      ]
     },
     "execution_count": 2,
     "metadata": {},
     "output_type": "execute_result"
    }
   ],
   "source": [
    "\"\"\"import blockulib.models as blom\n",
    "import torch\n",
    "\n",
    "model = blom.ConvModel()\n",
    "input_tensor = torch.randn(1, 1, 9, 9)\n",
    "output = model(input_tensor)\n",
    "print(\"New model sample output: \", output)\n",
    "\n",
    "PATH = \"models/conv_model.pth\"\n",
    "torch.save(model.state_dict(), PATH) \"\"\""
   ]
  },
  {
   "cell_type": "code",
   "execution_count": 3,
   "id": "40cdfaae-98d4-4c74-86cf-4e2a35394e72",
   "metadata": {},
   "outputs": [],
   "source": [
    "import torch\n",
    "import torch.nn.functional as F\n",
    "\n",
    "def sample_from_logits(logits, temperature = 1.0, top_k: int = None):\n",
    "    logits = logits / temperature\n",
    "\n",
    "    if top_k is not None and top_k < logits.size(-1):\n",
    "        top_vals, _ = torch.topk(logits, k=top_k)\n",
    "        threshold = top_vals[-1]\n",
    "        logits[logits < threshold] = float('-inf')\n",
    "\n",
    "    probs = F.softmax(logits, dim=-1)\n",
    "    sampled_index = torch.multinomial(probs, num_samples=1)\n",
    "    return sampled_index.item()"
   ]
  },
  {
   "cell_type": "code",
   "execution_count": 4,
   "id": "b83fa8f4-f53f-42ef-9a16-103bd2581d00",
   "metadata": {},
   "outputs": [],
   "source": [
    "def logits_to_choices(logits, index, num_games, temperature = 1.0, top_k: int = None):\n",
    "    range_left = [None for i in range(num_games)]\n",
    "    range_right = [None for i in range(num_games)]\n",
    "        \n",
    "    for i in range(index.shape[0]):\n",
    "        ind = int(index[i].item())\n",
    "        if range_left[ind] is None:\n",
    "            range_left[ind] = i\n",
    "        range_right[ind] = i+1\n",
    "            \n",
    "    choices = []\n",
    "    for left, right in zip(range_left, range_right):\n",
    "        if left is not None and right is not None:\n",
    "            choices.append(sample_from_logits(logits[left:right], temperature = temperature, top_k = top_k))\n",
    "        else:\n",
    "            choices.append(None)\n",
    "    return choices"
   ]
  },
  {
   "cell_type": "code",
   "execution_count": 5,
   "id": "838621ad-8e9f-4e4f-8120-fbbdf867a7cb",
   "metadata": {},
   "outputs": [
    {
     "data": {
      "text/plain": [
       "'logits = torch.tensor([2.1, 3.5, 2.2, 2.12,  1.5, 9.0])\\nindex = torch.tensor([0, 0, 0, 0, 1, 1])\\n\\nfor i in range(20):\\n    choices = logits_to_choices(logits, index, top_k = 3)\\n    print(choices)'"
      ]
     },
     "execution_count": 5,
     "metadata": {},
     "output_type": "execute_result"
    }
   ],
   "source": [
    "\"\"\"logits = torch.tensor([2.1, 3.5, 2.2, 2.12,  1.5, 9.0])\n",
    "index = torch.tensor([0, 0, 0, 0, 1, 1])\n",
    "\n",
    "for i in range(20):\n",
    "    choices = logits_to_choices(logits, index, top_k = 3)\n",
    "    print(choices)\"\"\""
   ]
  },
  {
   "cell_type": "code",
   "execution_count": 6,
   "id": "633359d5-5797-4e95-89bf-b1a7aedb702b",
   "metadata": {},
   "outputs": [],
   "source": [
    "import blockulib\n",
    "import blockulib.models as blom\n",
    "import torch\n",
    "\n",
    "class PlayingLoop():\n",
    "    \n",
    "    def __init__(self, model_path = \"models/conv_model.pth\", architecture = blom.ConvModel):\n",
    "        self.model = architecture()\n",
    "        state_dict = torch.load(model_path)\n",
    "        self.model.load_state_dict(state_dict)\n",
    "        self.generator = blockulib.BlockGenerator()\n",
    "        self.model.eval()\n",
    "        \n",
    "    def __call__(self, num_games = 1, batch_size = 2048):\n",
    "        pos_list = [[torch.zeros(9, 9)] for i in range(num_games)]\n",
    "        state = [True for i in range(num_games)]\n",
    "        active_games = num_games\n",
    "        move = 0\n",
    "        \n",
    "        while (active_games > 0):\n",
    "            move += 1\n",
    "            if (move == 1 or move%5 == 0):\n",
    "                print(\"Entering move phase: \", move)\n",
    "            new_index = []\n",
    "            for i in range(num_games):\n",
    "                if state[i]:\n",
    "                    new_index.append(i)\n",
    "            boards = [pos_list[new_index[i]][-1].clone() for i in range(active_games)]\n",
    "            \n",
    "            pos, ind = blockulib.possible_moves(boards, self.generator)\n",
    "            logits = self.get_model_pred(pos, batch_size = batch_size).squeeze(1)\n",
    "            decisions = logits_to_choices(logits, ind, active_games)\n",
    "            \n",
    "            if (move == 1 or move%5 == 0):\n",
    "                print(\"Possible moves count: \", ind.shape[0])\n",
    "            \n",
    "            for i in range(active_games):\n",
    "                if (decisions[i] is None):\n",
    "                    state[new_index[i]] = False\n",
    "                    active_games -= 1\n",
    "                else:\n",
    "                    pos_list[new_index[i]].append(pos[decisions[i]])\n",
    "                    \n",
    "        print(\"ended after \", move, \" moves\")            \n",
    "        return pos_list\n",
    "                    \n",
    "    def get_model_pred(self, data, batch_size, device = None):\n",
    "        if (data.shape[0] == 0):\n",
    "            return torch.tensor([[]])\n",
    "        if device is None:\n",
    "            device = (\"cuda\" if torch.cuda.is_available() else \"cpu\")\n",
    "        self.model.to(device)\n",
    "        predictions = []\n",
    "        \n",
    "        with torch.no_grad():\n",
    "            for i in range(0, data.shape[0], batch_size):\n",
    "                batch = data[i:i+batch_size].to(device)\n",
    "                batch = batch.unsqueeze(1)\n",
    "                output = self.model(batch)\n",
    "                predictions.append(output.cpu())\n",
    "            \n",
    "        return torch.cat(predictions)"
   ]
  },
  {
   "cell_type": "code",
   "execution_count": 7,
   "id": "51934603-e785-4340-8a5e-9d789d5bb706",
   "metadata": {
    "tags": []
   },
   "outputs": [],
   "source": [
    "play = PlayingLoop()"
   ]
  },
  {
   "cell_type": "code",
   "execution_count": 8,
   "id": "0b6a90cc-53b5-4640-832f-63dd488c59b9",
   "metadata": {
    "tags": []
   },
   "outputs": [
    {
     "name": "stdout",
     "output_type": "stream",
     "text": [
      "Entering move phase:  1\n",
      "Possible moves count:  59311\n",
      "Entering move phase:  5\n",
      "Possible moves count:  42328\n",
      "Entering move phase:  10\n",
      "Possible moves count:  16318\n",
      "Entering move phase:  15\n",
      "Possible moves count:  7432\n",
      "Entering move phase:  20\n",
      "Possible moves count:  2401\n",
      "Entering move phase:  25\n",
      "Possible moves count:  782\n",
      "Entering move phase:  30\n",
      "Possible moves count:  60\n",
      "Entering move phase:  35\n",
      "Possible moves count:  52\n",
      "ended after  39  moves\n",
      "Entering move phase:  1\n",
      "Possible moves count:  58363\n",
      "Entering move phase:  5\n",
      "Possible moves count:  32971\n",
      "Entering move phase:  10\n",
      "Possible moves count:  19064\n",
      "Entering move phase:  15\n",
      "Possible moves count:  4961\n",
      "Entering move phase:  20\n",
      "Possible moves count:  912\n",
      "Entering move phase:  25\n",
      "Possible moves count:  1157\n",
      "Entering move phase:  30\n",
      "Possible moves count:  90\n",
      "Entering move phase:  35\n",
      "Possible moves count:  35\n",
      "Entering move phase:  40\n",
      "Possible moves count:  6\n",
      "ended after  43  moves\n",
      "Elapsed time: 4.072512 seconds\n"
     ]
    }
   ],
   "source": [
    "import time\n",
    "start_time = time.time()\n",
    "\n",
    "wynik = play(num_games = 1000)\n",
    "drugi = play(num_games = 1000)\n",
    "\n",
    "end_time = time.time()\n",
    "elapsed_time = end_time - start_time\n",
    "print(f\"Elapsed time: {elapsed_time:.6f} seconds\")"
   ]
  },
  {
   "cell_type": "code",
   "execution_count": 9,
   "id": "bf96a9dc-11bb-406b-aede-7cb4ae9781d8",
   "metadata": {
    "tags": []
   },
   "outputs": [
    {
     "name": "stdout",
     "output_type": "stream",
     "text": [
      "1000\n"
     ]
    }
   ],
   "source": [
    "print(len(wynik))"
   ]
  },
  {
   "cell_type": "code",
   "execution_count": 10,
   "id": "a9acc240-008b-492a-9cc7-4b2c493e714f",
   "metadata": {
    "tags": []
   },
   "outputs": [
    {
     "name": "stdout",
     "output_type": "stream",
     "text": [
      "18408 cases int total\n"
     ]
    }
   ],
   "source": [
    "cases = 0\n",
    "for i in range(1000):\n",
    "    cases += len(wynik[i])\n",
    "print(cases, \"cases int total\")"
   ]
  }
 ],
 "metadata": {
  "kernelspec": {
   "display_name": "Python 3 (ipykernel)",
   "language": "python",
   "name": "python3"
  },
  "language_info": {
   "codemirror_mode": {
    "name": "ipython",
    "version": 3
   },
   "file_extension": ".py",
   "mimetype": "text/x-python",
   "name": "python",
   "nbconvert_exporter": "python",
   "pygments_lexer": "ipython3",
   "version": "3.11.7"
  }
 },
 "nbformat": 4,
 "nbformat_minor": 5
}
