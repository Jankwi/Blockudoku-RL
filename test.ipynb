{
 "cells": [
  {
   "cell_type": "code",
   "execution_count": null,
   "id": "ee3dc89f-40f9-4a56-a67f-77901cc39fce",
   "metadata": {},
   "outputs": [],
   "source": [
    "##TODO: add loop_init_config to the plau_games configs!!!"
   ]
  },
  {
   "cell_type": "code",
   "execution_count": 3,
   "id": "8377c820-d754-4a0f-b97a-74b15a0898a4",
   "metadata": {
    "tags": []
   },
   "outputs": [
    {
     "name": "stderr",
     "output_type": "stream",
     "text": [
      "Playing games: 100%|██████████| 2/2 [00:05<00:00,  2.78s/it]"
     ]
    },
    {
     "name": "stdout",
     "output_type": "stream",
     "text": [
      "Mean MPG : 16.725\n"
     ]
    },
    {
     "name": "stderr",
     "output_type": "stream",
     "text": [
      "\n"
     ]
    }
   ],
   "source": [
    "simple_config = Configs.simple_playing_config(num_games = 400, games_at_once = 200, save = False)\n",
    "play_games(**simple_config)"
   ]
  },
  {
   "cell_type": "code",
   "execution_count": 4,
   "id": "c1751131-ee44-4a61-974f-f202a90780ee",
   "metadata": {
    "tags": []
   },
   "outputs": [],
   "source": [
    "deep_config = Configs.deep_playing_config(num_games = 4, games_at_once = 2, save = False)\n",
    "play_games(**deep_config)"
   ]
  },
  {
   "cell_type": "code",
   "execution_count": 3,
   "id": "76aae5e9-9db0-4edc-8a24-10cad6b07db2",
   "metadata": {
    "tags": []
   },
   "outputs": [
    {
     "name": "stdout",
     "output_type": "stream",
     "text": [
      "torch.Size([90])\n"
     ]
    }
   ],
   "source": [
    "dorg_random_config = Configs.dorg_random_config()\n",
    "dorg = RandomBoards()\n",
    "dorg(**dorg_random_config)"
   ]
  },
  {
   "cell_type": "code",
   "execution_count": 3,
   "id": "426c0f2f-b99b-4346-b8f3-0e9084c2773b",
   "metadata": {
    "tags": []
   },
   "outputs": [
    {
     "name": "stdout",
     "output_type": "stream",
     "text": [
      "Shape  torch.Size([90, 9, 9])\n",
      "Epoch [1/5], Loss: 1.0407\n",
      "Test Loss: 0.9639\n",
      "Epoch [2/5], Loss: 0.9429\n",
      "Test Loss: 0.8387\n",
      "Epoch [3/5], Loss: 0.8109\n",
      "Test Loss: 0.7639\n",
      "Epoch [4/5], Loss: 0.7318\n",
      "Test Loss: 0.6689\n",
      "Epoch [5/5], Loss: 0.6089\n",
      "Test Loss: 0.6259\n"
     ]
    }
   ],
   "source": [
    "train_init_config = Configs.train_init_config()\n",
    "train_config = Configs.train_config(num_epochs = 10, log_every = 1)\n",
    "train_save_config = Configs.train_save_config()\n",
    "\n",
    "trainer = Trainer(**train_init_config)\n",
    "trainer(**train_config)\n",
    "trainer.save(**train_save_config)"
   ]
  },
  {
   "cell_type": "code",
   "execution_count": 6,
   "id": "3625016e-9140-4fd6-a9cc-a252ce8e35b4",
   "metadata": {
    "tags": []
   },
   "outputs": [],
   "source": [
    "train_model_config = Configs.train_model_config()"
   ]
  },
  {
   "cell_type": "code",
   "execution_count": 8,
   "id": "1630b64c-b6b4-46e4-80fe-1aa03eee2c63",
   "metadata": {
    "tags": []
   },
   "outputs": [
    {
     "name": "stdout",
     "output_type": "stream",
     "text": [
      "Shape  torch.Size([90, 9, 9])\n",
      "Epoch [1/20], Loss: 0.8453\n",
      "Test Loss: 0.9644\n",
      "Epoch [5/20], Loss: 0.5231\n",
      "Test Loss: 0.7229\n",
      "Epoch [10/20], Loss: 0.2809\n",
      "Test Loss: 0.5420\n",
      "Epoch [15/20], Loss: 0.1601\n",
      "Test Loss: 0.3855\n",
      "Epoch [20/20], Loss: 0.1051\n",
      "Test Loss: 0.3575\n"
     ]
    }
   ],
   "source": [
    "train_model(**train_model_config)"
   ]
  },
  {
   "cell_type": "code",
   "execution_count": 2,
   "id": "3299986a-e7ad-4729-a3a4-a76bedab90fe",
   "metadata": {},
   "outputs": [],
   "source": [
    "from blockulib.data import DataOrganizer\n",
    "from blockulib.training import Trainer"
   ]
  },
  {
   "cell_type": "code",
   "execution_count": 3,
   "id": "bb325945-e72b-401b-9d0f-ca88fd96b3ff",
   "metadata": {
    "tags": []
   },
   "outputs": [],
   "source": [
    "from blockulib.pipelines import Configs, Pipeline\n",
    "from blockulib.playing import play_games\n",
    "from blockulib.data import DataOrganizer, OneFromEach\n",
    "from blockulib.training import Trainer"
   ]
  },
  {
   "cell_type": "code",
   "execution_count": 4,
   "id": "f4ef0ac8-df78-4aa1-b642-ba9a1247372b",
   "metadata": {},
   "outputs": [],
   "source": [
    "def train_model(train_init_config, train_config, train_save_config, Train: Trainer = Trainer):\n",
    "    train = Train(**train_init_config)\n",
    "    train(**train_config)\n",
    "    train.save(**train_save_config)"
   ]
  },
  {
   "cell_type": "code",
   "execution_count": 5,
   "id": "88a7f91f-6b90-4f51-a043-454442e221c0",
   "metadata": {},
   "outputs": [],
   "source": [
    "import time\n",
    "\n",
    "class Pipeline():\n",
    "    \n",
    "    def __init__(self):\n",
    "        pass\n",
    "    \n",
    "    def __call__(self, num_iterations, play_games_config, train_model_config, dorg_config, start_iteration = 0, Dorg: DataOrganizer = DataOrganizer):\n",
    "        \n",
    "        dorg = Dorg()\n",
    "        for i in range(start_iteration, start_iteration + num_iterations):\n",
    "            print(\"Starting ieration \", i)\n",
    "            start_time = time.time()\n",
    "    \n",
    "            play_games(**play_games_config)\n",
    "            dorg(iteration = i, **dorg_config)\n",
    "            train_model(**train_model_config)\n",
    "    \n",
    "            end_time = time.time()\n",
    "            elapsed_time = end_time - start_time\n",
    "            print(f\"Elapsed time: {elapsed_time:.6f} seconds\")"
   ]
  },
  {
   "cell_type": "code",
   "execution_count": 6,
   "id": "76cfa377-a7ed-4dfa-bec8-aefc691a403c",
   "metadata": {
    "tags": []
   },
   "outputs": [],
   "source": [
    "pipeline_config = {\n",
    "    'num_iterations': 7,\n",
    "    'start_iteration' : 0,\n",
    "    'play_games_config' : Configs.simple_playing_config(num_games = 10*1000, games_at_once = 1000),\n",
    "    'train_model_config' : Configs.train_model_config(num_epochs = 60, log_every = 30),\n",
    "    'Dorg' : OneFromEach,\n",
    "    'dorg_config' : Configs.dorg_config()\n",
    "}"
   ]
  },
  {
   "cell_type": "code",
   "execution_count": 7,
   "id": "2402f641-238a-4087-b801-a67fd8d686a0",
   "metadata": {
    "tags": []
   },
   "outputs": [
    {
     "data": {
      "text/plain": [
       "{'num_iterations': 7,\n",
       " 'start_iteration': 0,\n",
       " 'play_games_config': {'num_games': 10000,\n",
       "  'games_at_once': 1000,\n",
       "  'playing_loop': blockulib.playing.ModelBasedLoop,\n",
       "  'save': True,\n",
       "  'playing_config': {'temperature': 0.7,\n",
       "   'top_k': 3,\n",
       "   'pred_config': {'batch_size': 4096}}},\n",
       " 'train_model_config': {'train_init_config': {'architecture': blockulib.models.ConvModel,\n",
       "   'tensor_dir': 'data/tensors/'},\n",
       "  'train_config': {'num_epochs': 60,\n",
       "   'step_size': 0.001,\n",
       "   'batch_size': 4096,\n",
       "   'log_every': 30},\n",
       "  'train_save_config': {'save_path': 'models/conv_model.pth'}},\n",
       " 'Dorg': blockulib.data.OneFromEach,\n",
       " 'dorg_config': {}}"
      ]
     },
     "execution_count": 7,
     "metadata": {},
     "output_type": "execute_result"
    }
   ],
   "source": [
    "pipeline_config"
   ]
  },
  {
   "cell_type": "code",
   "execution_count": 14,
   "id": "40cc84c7-d441-479e-91fc-13e9c6019ea8",
   "metadata": {
    "tags": []
   },
   "outputs": [],
   "source": [
    "blockupipe = Pipeline()"
   ]
  },
  {
   "cell_type": "code",
   "execution_count": 16,
   "id": "fb39f8f0-5dbc-4209-88c7-a1bd70df9deb",
   "metadata": {
    "tags": []
   },
   "outputs": [
    {
     "name": "stdout",
     "output_type": "stream",
     "text": [
      "Starting ieration  0\n"
     ]
    },
    {
     "name": "stderr",
     "output_type": "stream",
     "text": [
      "Playing games: 100%|██████████| 10/10 [00:30<00:00,  3.06s/it]\n"
     ]
    },
    {
     "name": "stdout",
     "output_type": "stream",
     "text": [
      "Mean MPG : 19.0286\n",
      "torch.Size([10000])\n",
      "Shape  torch.Size([10000, 9, 9])\n",
      "Epoch [1/60], Loss: 0.9149\n",
      "Test Loss: 0.7860\n",
      "Epoch [30/60], Loss: 0.4682\n",
      "Test Loss: 0.4856\n",
      "Epoch [60/60], Loss: 0.4414\n",
      "Test Loss: 0.4767\n",
      "Elapsed time: 37.913243 seconds\n",
      "Starting ieration  1\n"
     ]
    },
    {
     "name": "stderr",
     "output_type": "stream",
     "text": [
      "Playing games: 100%|██████████| 10/10 [00:36<00:00,  3.62s/it]\n"
     ]
    },
    {
     "name": "stdout",
     "output_type": "stream",
     "text": [
      "Mean MPG : 23.1792\n",
      "torch.Size([10000])\n",
      "Shape  torch.Size([10000, 9, 9])\n",
      "Epoch [1/60], Loss: 1.0400\n",
      "Test Loss: 0.8532\n",
      "Epoch [30/60], Loss: 0.4913\n",
      "Test Loss: 0.5137\n",
      "Epoch [60/60], Loss: 0.4524\n",
      "Test Loss: 0.5185\n",
      "Elapsed time: 42.617568 seconds\n",
      "Starting ieration  2\n"
     ]
    },
    {
     "name": "stderr",
     "output_type": "stream",
     "text": [
      "Playing games: 100%|██████████| 10/10 [00:39<00:00,  3.90s/it]\n"
     ]
    },
    {
     "name": "stdout",
     "output_type": "stream",
     "text": [
      "Mean MPG : 24.814\n",
      "torch.Size([10000])\n",
      "Shape  torch.Size([10000, 9, 9])\n",
      "Epoch [1/60], Loss: 0.9672\n",
      "Test Loss: 0.8803\n",
      "Epoch [30/60], Loss: 0.5452\n",
      "Test Loss: 0.5470\n",
      "Epoch [60/60], Loss: 0.5104\n",
      "Test Loss: 0.5334\n",
      "Elapsed time: 45.582479 seconds\n",
      "Starting ieration  3\n"
     ]
    },
    {
     "name": "stderr",
     "output_type": "stream",
     "text": [
      "Playing games: 100%|██████████| 10/10 [00:35<00:00,  3.51s/it]\n"
     ]
    },
    {
     "name": "stdout",
     "output_type": "stream",
     "text": [
      "Mean MPG : 22.44\n",
      "torch.Size([10000])\n",
      "Shape  torch.Size([10000, 9, 9])\n",
      "Epoch [1/60], Loss: 1.0518\n",
      "Test Loss: 0.9120\n",
      "Epoch [30/60], Loss: 0.5063\n",
      "Test Loss: 0.5372\n",
      "Epoch [60/60], Loss: 0.4715\n",
      "Test Loss: 0.5397\n",
      "Elapsed time: 41.631450 seconds\n",
      "Starting ieration  4\n"
     ]
    },
    {
     "name": "stderr",
     "output_type": "stream",
     "text": [
      "Playing games: 100%|██████████| 10/10 [00:37<00:00,  3.80s/it]\n"
     ]
    },
    {
     "name": "stdout",
     "output_type": "stream",
     "text": [
      "Mean MPG : 23.6623\n",
      "torch.Size([10000])\n",
      "Shape  torch.Size([10000, 9, 9])\n",
      "Epoch [1/60], Loss: 1.0481\n",
      "Test Loss: 0.9045\n",
      "Epoch [30/60], Loss: 0.5061\n",
      "Test Loss: 0.5022\n",
      "Epoch [60/60], Loss: 0.4653\n",
      "Test Loss: 0.4954\n",
      "Elapsed time: 44.145065 seconds\n",
      "Starting ieration  5\n"
     ]
    },
    {
     "name": "stderr",
     "output_type": "stream",
     "text": [
      "Playing games: 100%|██████████| 10/10 [00:36<00:00,  3.61s/it]\n"
     ]
    },
    {
     "name": "stdout",
     "output_type": "stream",
     "text": [
      "Mean MPG : 23.1674\n",
      "torch.Size([10000])\n",
      "Shape  torch.Size([10000, 9, 9])\n",
      "Epoch [1/60], Loss: 0.9702\n",
      "Test Loss: 0.8524\n",
      "Epoch [30/60], Loss: 0.5191\n",
      "Test Loss: 0.5401\n",
      "Epoch [60/60], Loss: 0.4810\n",
      "Test Loss: 0.5409\n",
      "Elapsed time: 42.167037 seconds\n",
      "Starting ieration  6\n"
     ]
    },
    {
     "name": "stderr",
     "output_type": "stream",
     "text": [
      "Playing games: 100%|██████████| 10/10 [00:38<00:00,  3.88s/it]\n"
     ]
    },
    {
     "name": "stdout",
     "output_type": "stream",
     "text": [
      "Mean MPG : 24.3745\n",
      "torch.Size([10000])\n",
      "Shape  torch.Size([10000, 9, 9])\n",
      "Epoch [1/60], Loss: 1.0893\n",
      "Test Loss: 0.9562\n",
      "Epoch [30/60], Loss: 0.5237\n",
      "Test Loss: 0.5784\n",
      "Epoch [60/60], Loss: 0.4826\n",
      "Test Loss: 0.5817\n",
      "Elapsed time: 44.650232 seconds\n"
     ]
    }
   ],
   "source": [
    "blockupipe(**pipeline_config)"
   ]
  },
  {
   "cell_type": "code",
   "execution_count": null,
   "id": "b28f9268-f4b3-411f-a103-fa3cc0dd9941",
   "metadata": {},
   "outputs": [],
   "source": []
  }
 ],
 "metadata": {
  "kernelspec": {
   "display_name": "Python 3 (ipykernel)",
   "language": "python",
   "name": "python3"
  },
  "language_info": {
   "codemirror_mode": {
    "name": "ipython",
    "version": 3
   },
   "file_extension": ".py",
   "mimetype": "text/x-python",
   "name": "python",
   "nbconvert_exporter": "python",
   "pygments_lexer": "ipython3",
   "version": "3.11.7"
  }
 },
 "nbformat": 4,
 "nbformat_minor": 5
}
