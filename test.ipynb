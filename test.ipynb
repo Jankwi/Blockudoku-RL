{
 "cells": [
  {
   "cell_type": "code",
   "execution_count": 2,
   "id": "bb325945-e72b-401b-9d0f-ca88fd96b3ff",
   "metadata": {
    "tags": []
   },
   "outputs": [],
   "source": [
    "from blockulib.classess import PlayingLoop"
   ]
  },
  {
   "cell_type": "code",
   "execution_count": 3,
   "id": "51934603-e785-4340-8a5e-9d789d5bb706",
   "metadata": {
    "tags": []
   },
   "outputs": [],
   "source": [
    "play = PlayingLoop()"
   ]
  },
  {
   "cell_type": "code",
   "execution_count": 4,
   "id": "0b6a90cc-53b5-4640-832f-63dd488c59b9",
   "metadata": {
    "tags": []
   },
   "outputs": [
    {
     "name": "stdout",
     "output_type": "stream",
     "text": [
      "ended after  35  moves\n",
      "Elapsed time: 4.771165 seconds\n",
      "16532 cases in total\n",
      "ended after  38  moves\n",
      "Elapsed time: 5.074643 seconds\n",
      "16463 cases in total\n",
      "ended after  35  moves\n",
      "Elapsed time: 4.159517 seconds\n",
      "16600 cases in total\n",
      "ended after  40  moves\n",
      "Elapsed time: 4.852046 seconds\n",
      "16553 cases in total\n",
      "ended after  38  moves\n",
      "Elapsed time: 4.827884 seconds\n",
      "16433 cases in total\n",
      "ended after  39  moves\n",
      "Elapsed time: 4.770313 seconds\n",
      "16548 cases in total\n",
      "ended after  37  moves\n",
      "Elapsed time: 5.061713 seconds\n",
      "16310 cases in total\n",
      "ended after  41  moves\n",
      "Elapsed time: 4.811032 seconds\n",
      "16709 cases in total\n",
      "ended after  36  moves\n",
      "Elapsed time: 5.252394 seconds\n",
      "16467 cases in total\n",
      "ended after  39  moves\n",
      "Elapsed time: 3.982795 seconds\n",
      "16465 cases in total\n"
     ]
    }
   ],
   "source": [
    "import time\n",
    "\n",
    "for i in range(10):\n",
    "    start_time = time.time()\n",
    "    #wynik = play(num_games = 1000, temperature = 1.2) #, top_k = 5)\n",
    "    wynik = play(num_games = 1000, temperature = 1.0) #, top_k = 10)\n",
    "\n",
    "    end_time = time.time()\n",
    "    elapsed_time = end_time - start_time\n",
    "    print(f\"Elapsed time: {elapsed_time:.6f} seconds\")\n",
    "    \n",
    "    cases = 0\n",
    "    for i in range(1000):\n",
    "        cases += len(wynik[i])\n",
    "    print(cases, \"cases in total\")"
   ]
  }
 ],
 "metadata": {
  "kernelspec": {
   "display_name": "Python 3 (ipykernel)",
   "language": "python",
   "name": "python3"
  },
  "language_info": {
   "codemirror_mode": {
    "name": "ipython",
    "version": 3
   },
   "file_extension": ".py",
   "mimetype": "text/x-python",
   "name": "python",
   "nbconvert_exporter": "python",
   "pygments_lexer": "ipython3",
   "version": "3.11.7"
  }
 },
 "nbformat": 4,
 "nbformat_minor": 5
}
