{
 "cells": [
  {
   "cell_type": "code",
   "execution_count": 2,
   "id": "bb325945-e72b-401b-9d0f-ca88fd96b3ff",
   "metadata": {
    "tags": []
   },
   "outputs": [],
   "source": [
    "from blockulib.classess import PlayingLoop"
   ]
  },
  {
   "cell_type": "code",
   "execution_count": 3,
   "id": "51934603-e785-4340-8a5e-9d789d5bb706",
   "metadata": {
    "tags": []
   },
   "outputs": [],
   "source": [
    "play = PlayingLoop()"
   ]
  },
  {
   "cell_type": "code",
   "execution_count": 4,
   "id": "0b6a90cc-53b5-4640-832f-63dd488c59b9",
   "metadata": {
    "tags": []
   },
   "outputs": [
    {
     "name": "stdout",
     "output_type": "stream",
     "text": [
      "ended after  47  moves\n",
      "Elapsed time: 11.434610 seconds\n"
     ]
    }
   ],
   "source": [
    "import time\n",
    "start_time = time.time()\n",
    "\n",
    "#wynik = play(num_games = 1000, temperature = 1.2) #, top_k = 5)\n",
    "wynik = play(num_games = 1000, temperature = 1.0) #, top_k = 10)\n",
    "\n",
    "end_time = time.time()\n",
    "elapsed_time = end_time - start_time\n",
    "print(f\"Elapsed time: {elapsed_time:.6f} seconds\")"
   ]
  },
  {
   "cell_type": "code",
   "execution_count": 5,
   "id": "a9acc240-008b-492a-9cc7-4b2c493e714f",
   "metadata": {
    "tags": []
   },
   "outputs": [
    {
     "name": "stdout",
     "output_type": "stream",
     "text": [
      "16557 cases in total\n"
     ]
    }
   ],
   "source": [
    "cases = 0\n",
    "for i in range(1000):\n",
    "    cases += len(wynik[i])\n",
    "print(cases, \"cases in total\")"
   ]
  },
  {
   "cell_type": "code",
   "execution_count": null,
   "id": "6e496890-12ee-488f-963f-61e6b0dab409",
   "metadata": {},
   "outputs": [],
   "source": []
  }
 ],
 "metadata": {
  "kernelspec": {
   "display_name": "Python 3 (ipykernel)",
   "language": "python",
   "name": "python3"
  },
  "language_info": {
   "codemirror_mode": {
    "name": "ipython",
    "version": 3
   },
   "file_extension": ".py",
   "mimetype": "text/x-python",
   "name": "python",
   "nbconvert_exporter": "python",
   "pygments_lexer": "ipython3",
   "version": "3.11.7"
  }
 },
 "nbformat": 4,
 "nbformat_minor": 5
}
