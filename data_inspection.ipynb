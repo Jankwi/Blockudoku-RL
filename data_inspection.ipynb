{
 "cells": [
  {
   "cell_type": "code",
   "execution_count": 2,
   "id": "be14d30d-80ba-444f-af6f-c434141fc9ea",
   "metadata": {},
   "outputs": [
    {
     "data": {
      "text/plain": [
       "'    \\ntensor_dir = \"data/tensors/\"\\n\\ndef fetch_tensors(self, tensor_dir):\\nx_dict = torch.load(tensor_dir + \"x.pth\")\\n        y_dict = torch.load(tensor_dir + \"transformed_y.pth\")\\n        x = x_dict[\\'x\\']\\n        y = y_dict[\\'y\\']\\n        dataset = TensorDataset(x, y)\\n        print(\"Shape \", x.shape)\\n\\n        train_size = int(0.8 * len(dataset))\\n        test_size = len(dataset) - train_size\\n        self.train_dataset, self.test_dataset = random_split(dataset, [train_size, test_size])'"
      ]
     },
     "execution_count": 2,
     "metadata": {},
     "output_type": "execute_result"
    }
   ],
   "source": [
    "\"\"\"    \n",
    "tensor_dir = \"data/tensors/\"\n",
    "\n",
    "def fetch_tensors(self, tensor_dir):\n",
    "x_dict = torch.load(tensor_dir + \"x.pth\")\n",
    "        y_dict = torch.load(tensor_dir + \"transformed_y.pth\")\n",
    "        x = x_dict['x']\n",
    "        y = y_dict['y']\n",
    "        dataset = TensorDataset(x, y)\n",
    "        print(\"Shape \", x.shape)\n",
    "\n",
    "        train_size = int(0.8 * len(dataset))\n",
    "        test_size = len(dataset) - train_size\n",
    "        self.train_dataset, self.test_dataset = random_split(dataset, [train_size, test_size])\"\"\""
   ]
  },
  {
   "cell_type": "code",
   "execution_count": 3,
   "id": "e4684ee5-03fb-4996-aa12-233f6a4804c4",
   "metadata": {
    "tags": []
   },
   "outputs": [
    {
     "name": "stdout",
     "output_type": "stream",
     "text": [
      "Shape  torch.Size([100000, 9, 9])\n"
     ]
    }
   ],
   "source": [
    "import torch\n",
    "from torch.utils.data import TensorDataset, DataLoader, random_split\n",
    "\n",
    "tensor_dir = \"data/tensors/\"\n",
    "\n",
    "x_dict = torch.load(tensor_dir + \"x.pth\")\n",
    "y_dict = torch.load(tensor_dir + \"transformed_y.pth\")\n",
    "x = x_dict['x']\n",
    "y = y_dict['y']\n",
    "dataset = TensorDataset(x, y)\n",
    "print(\"Shape \", x.shape)\n",
    "\n",
    "train_size = int(0.8 * len(dataset))\n",
    "test_size = len(dataset) - train_size\n",
    "train_dataset, test_dataset = random_split(dataset, [train_size, test_size])"
   ]
  },
  {
   "cell_type": "code",
   "execution_count": 41,
   "id": "5749ee4f-6da7-4404-a329-38410015558c",
   "metadata": {
    "tags": []
   },
   "outputs": [
    {
     "data": {
      "text/plain": [
       "(tensor([[[0., 1., 1., 1., 0., 0., 0., 1., 1.],\n",
       "          [1., 1., 0., 1., 1., 1., 1., 1., 1.],\n",
       "          [0., 0., 0., 0., 0., 0., 0., 0., 0.],\n",
       "          [1., 1., 0., 0., 0., 0., 0., 0., 0.],\n",
       "          [1., 1., 1., 1., 0., 0., 0., 1., 0.],\n",
       "          [1., 0., 0., 1., 1., 1., 1., 1., 1.],\n",
       "          [1., 1., 1., 0., 1., 1., 0., 1., 1.],\n",
       "          [0., 0., 0., 0., 0., 0., 0., 0., 0.],\n",
       "          [1., 0., 1., 1., 1., 0., 1., 1., 1.]],\n",
       " \n",
       "         [[0., 1., 0., 0., 0., 0., 0., 0., 0.],\n",
       "          [0., 1., 1., 1., 0., 0., 1., 1., 1.],\n",
       "          [1., 1., 1., 1., 1., 0., 1., 0., 1.],\n",
       "          [1., 1., 0., 0., 0., 1., 0., 0., 0.],\n",
       "          [0., 1., 0., 1., 1., 1., 1., 0., 0.],\n",
       "          [1., 1., 1., 0., 1., 1., 0., 0., 0.],\n",
       "          [0., 0., 1., 0., 0., 0., 0., 0., 1.],\n",
       "          [1., 1., 1., 1., 0., 1., 1., 1., 1.],\n",
       "          [0., 1., 0., 0., 0., 1., 0., 0., 0.]],\n",
       " \n",
       "         [[0., 0., 0., 0., 0., 0., 1., 0., 0.],\n",
       "          [0., 0., 0., 0., 0., 0., 0., 1., 0.],\n",
       "          [0., 0., 0., 0., 0., 0., 0., 0., 1.],\n",
       "          [0., 0., 1., 1., 1., 1., 1., 1., 0.],\n",
       "          [0., 0., 0., 1., 0., 0., 1., 0., 0.],\n",
       "          [0., 0., 0., 0., 0., 0., 1., 0., 0.],\n",
       "          [0., 0., 0., 0., 0., 0., 0., 0., 0.],\n",
       "          [0., 0., 0., 0., 0., 0., 1., 0., 0.],\n",
       "          [0., 0., 0., 0., 0., 1., 1., 1., 0.]],\n",
       " \n",
       "         [[0., 0., 0., 1., 1., 0., 1., 1., 1.],\n",
       "          [1., 0., 0., 1., 0., 0., 1., 1., 1.],\n",
       "          [0., 0., 0., 0., 0., 0., 0., 1., 1.],\n",
       "          [0., 0., 0., 0., 0., 1., 0., 0., 0.],\n",
       "          [0., 0., 1., 1., 1., 1., 1., 0., 0.],\n",
       "          [0., 0., 0., 1., 0., 0., 0., 0., 0.],\n",
       "          [0., 1., 1., 1., 0., 0., 0., 0., 0.],\n",
       "          [0., 1., 1., 1., 1., 0., 0., 0., 1.],\n",
       "          [1., 1., 1., 1., 0., 1., 0., 0., 0.]],\n",
       " \n",
       "         [[0., 0., 1., 0., 0., 0., 0., 0., 0.],\n",
       "          [0., 1., 0., 1., 0., 0., 0., 0., 0.],\n",
       "          [0., 1., 0., 0., 1., 1., 1., 1., 0.],\n",
       "          [1., 1., 1., 1., 0., 0., 1., 0., 0.],\n",
       "          [1., 1., 1., 1., 1., 0., 0., 0., 0.],\n",
       "          [1., 1., 0., 1., 0., 0., 1., 1., 0.],\n",
       "          [0., 0., 1., 0., 1., 0., 1., 0., 0.],\n",
       "          [0., 0., 0., 0., 1., 0., 0., 0., 0.],\n",
       "          [0., 0., 0., 0., 1., 1., 1., 0., 0.]],\n",
       " \n",
       "         [[0., 0., 0., 0., 0., 0., 0., 0., 0.],\n",
       "          [0., 1., 0., 0., 0., 0., 0., 0., 0.],\n",
       "          [1., 1., 1., 0., 0., 0., 0., 0., 0.],\n",
       "          [0., 0., 1., 0., 0., 0., 0., 0., 0.],\n",
       "          [0., 0., 1., 0., 0., 0., 0., 0., 0.],\n",
       "          [0., 0., 0., 0., 0., 0., 0., 0., 0.],\n",
       "          [0., 0., 0., 0., 0., 0., 0., 0., 0.],\n",
       "          [0., 0., 0., 0., 0., 0., 0., 0., 0.],\n",
       "          [0., 0., 1., 0., 0., 0., 0., 0., 0.]],\n",
       " \n",
       "         [[0., 0., 0., 0., 1., 1., 1., 0., 0.],\n",
       "          [0., 1., 0., 0., 1., 1., 1., 1., 1.],\n",
       "          [0., 1., 0., 0., 1., 1., 0., 0., 1.],\n",
       "          [1., 1., 1., 1., 1., 1., 0., 0., 1.],\n",
       "          [0., 0., 1., 0., 0., 0., 0., 0., 0.],\n",
       "          [1., 1., 1., 1., 1., 0., 0., 0., 0.],\n",
       "          [1., 1., 1., 0., 1., 1., 0., 1., 0.],\n",
       "          [0., 1., 1., 1., 1., 1., 1., 1., 0.],\n",
       "          [0., 1., 1., 1., 0., 0., 1., 1., 1.]],\n",
       " \n",
       "         [[0., 0., 0., 0., 0., 0., 1., 1., 0.],\n",
       "          [0., 1., 1., 1., 0., 1., 0., 1., 0.],\n",
       "          [0., 1., 0., 0., 0., 1., 0., 1., 0.],\n",
       "          [0., 1., 0., 0., 1., 1., 0., 0., 0.],\n",
       "          [0., 0., 0., 0., 1., 1., 1., 0., 0.],\n",
       "          [0., 0., 0., 0., 1., 0., 0., 0., 0.],\n",
       "          [0., 0., 1., 0., 0., 0., 0., 0., 0.],\n",
       "          [1., 1., 1., 0., 0., 1., 0., 0., 0.],\n",
       "          [1., 0., 0., 0., 0., 0., 0., 0., 0.]],\n",
       " \n",
       "         [[0., 0., 0., 1., 0., 0., 0., 0., 0.],\n",
       "          [0., 0., 1., 0., 1., 0., 0., 0., 0.],\n",
       "          [0., 1., 1., 1., 1., 0., 1., 1., 1.],\n",
       "          [1., 1., 0., 0., 0., 0., 0., 0., 1.],\n",
       "          [0., 1., 0., 0., 0., 0., 0., 0., 0.],\n",
       "          [1., 1., 0., 1., 1., 1., 0., 0., 0.],\n",
       "          [1., 1., 0., 0., 1., 0., 0., 1., 0.],\n",
       "          [1., 0., 0., 0., 1., 0., 0., 1., 0.],\n",
       "          [1., 1., 0., 0., 0., 0., 0., 1., 0.]],\n",
       " \n",
       "         [[0., 0., 0., 1., 1., 1., 0., 0., 0.],\n",
       "          [0., 0., 0., 0., 1., 0., 1., 0., 0.],\n",
       "          [1., 0., 0., 0., 1., 0., 1., 1., 0.],\n",
       "          [1., 1., 0., 0., 0., 0., 1., 0., 0.],\n",
       "          [0., 0., 0., 0., 1., 1., 0., 0., 0.],\n",
       "          [0., 0., 0., 1., 1., 1., 1., 1., 0.],\n",
       "          [0., 0., 0., 1., 1., 1., 0., 1., 0.],\n",
       "          [0., 0., 0., 1., 0., 1., 1., 1., 1.],\n",
       "          [0., 0., 0., 0., 0., 1., 0., 0., 0.]]]),\n",
       " tensor([-0.7632, -0.0751,  1.0863,  0.0891,  0.2339,  0.5877, -0.0751,  0.2339,\n",
       "         -0.4888, -0.2646]))"
      ]
     },
     "execution_count": 41,
     "metadata": {},
     "output_type": "execute_result"
    }
   ],
   "source": [
    "train_dataset[3467:3477]"
   ]
  },
  {
   "cell_type": "code",
   "execution_count": 37,
   "id": "e89d5473-272c-40be-8ffa-93eba353f13c",
   "metadata": {
    "tags": []
   },
   "outputs": [
    {
     "name": "stdout",
     "output_type": "stream",
     "text": [
      "tensor([ 0.9414,  1.2158, -1.6155,  0.8621, -1.1169, -0.4888,  0.4807,  1.0863,\n",
      "         0.4807,  0.9414])\n"
     ]
    }
   ],
   "source": [
    "print(y[2137:2147])"
   ]
  },
  {
   "cell_type": "code",
   "execution_count": 25,
   "id": "62314494-31d1-490d-a558-9d66655f3f8f",
   "metadata": {
    "tags": []
   },
   "outputs": [],
   "source": [
    "zero_list = []\n",
    "shape = x.shape[0]\n",
    "\n",
    "for i in range(shape):\n",
    "    if x[i].sum() < 1:\n",
    "        zero_list.append(y[i].item())"
   ]
  },
  {
   "cell_type": "code",
   "execution_count": 35,
   "id": "f9de0ce9-61f1-46d2-8a8d-2ace2a533313",
   "metadata": {
    "tags": []
   },
   "outputs": [
    {
     "name": "stdout",
     "output_type": "stream",
     "text": [
      "Mean value for 0: 0.9751062054469454 - with zero appearing 5778 times\n"
     ]
    }
   ],
   "source": [
    "suma = 0\n",
    "for i in range(len(zero_list)):\n",
    "    suma += zero_list[i]\n",
    "print(f\"Mean value for 0: {suma/len(zero_list)} - with zero appearing {len(zero_list)} times\")"
   ]
  }
 ],
 "metadata": {
  "kernelspec": {
   "display_name": "Python 3 (ipykernel)",
   "language": "python",
   "name": "python3"
  },
  "language_info": {
   "codemirror_mode": {
    "name": "ipython",
    "version": 3
   },
   "file_extension": ".py",
   "mimetype": "text/x-python",
   "name": "python",
   "nbconvert_exporter": "python",
   "pygments_lexer": "ipython3",
   "version": "3.11.7"
  }
 },
 "nbformat": 4,
 "nbformat_minor": 5
}
